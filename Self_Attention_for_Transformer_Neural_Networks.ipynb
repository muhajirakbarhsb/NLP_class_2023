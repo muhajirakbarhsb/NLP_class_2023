{
  "nbformat": 4,
  "nbformat_minor": 0,
  "metadata": {
    "colab": {
      "provenance": [],
      "include_colab_link": true
    },
    "kernelspec": {
      "name": "python3",
      "display_name": "Python 3"
    },
    "language_info": {
      "name": "python"
    }
  },
  "cells": [
    {
      "cell_type": "markdown",
      "metadata": {
        "id": "view-in-github",
        "colab_type": "text"
      },
      "source": [
        "<a href=\"https://colab.research.google.com/github/muhajirakbarhsb/NLP_class_2023/blob/main/Self_Attention_for_Transformer_Neural_Networks.ipynb\" target=\"_parent\"><img src=\"https://colab.research.google.com/assets/colab-badge.svg\" alt=\"Open In Colab\"/></a>"
      ]
    },
    {
      "cell_type": "markdown",
      "source": [
        "# Self Attention in Transformers"
      ],
      "metadata": {
        "id": "gO5Z0qErNuOt"
      }
    },
    {
      "cell_type": "markdown",
      "source": [
        "## Generate Data"
      ],
      "metadata": {
        "id": "HedntyUvLrBo"
      }
    },
    {
      "cell_type": "code",
      "source": [
        "import numpy as np\n",
        "import math\n",
        "# nama saya adalah muhajir\n",
        "L, d_k, d_v = 4, 8, 8\n",
        "q = np.random.randn(L, d_k)\n",
        "k = np.random.randn(L, d_k)\n",
        "v = np.random.randn(L, d_v)"
      ],
      "metadata": {
        "id": "xtKbaWhFJui3"
      },
      "execution_count": 1,
      "outputs": []
    },
    {
      "cell_type": "code",
      "source": [
        "print(\"Q\\n\", q)\n",
        "print(\"K\\n\", k)\n",
        "print(\"V\\n\", v)"
      ],
      "metadata": {
        "colab": {
          "base_uri": "https://localhost:8080/"
        },
        "id": "09JpvuNJ2sZC",
        "outputId": "1c5b1a9b-8246-4659-a7d2-2331fc4df00e"
      },
      "execution_count": null,
      "outputs": [
        {
          "output_type": "stream",
          "name": "stdout",
          "text": [
            "Q\n",
            " [[ 1.11463077 -1.61118447  0.54147411 -0.74795067 -1.17261228 -0.17991552\n",
            "   1.045193    1.08462789]\n",
            " [ 0.39346084 -0.0943694   0.54644756  0.16949109 -0.65849926  0.64650622\n",
            "   0.426543   -1.12598942]\n",
            " [ 0.31880994  0.69748883  2.3498791   1.34022374  0.27939465 -0.12330068\n",
            "   0.08064605 -0.41289694]\n",
            " [ 0.33571747 -2.68938734  0.20870225  0.09218937 -0.12195233  1.14108108\n",
            "   0.56365024 -0.02904754]]\n",
            "K\n",
            " [[-0.97934243 -0.3139709   0.61703621  0.77079775 -0.08300723  1.08536188\n",
            "  -2.24613447  0.48858564]\n",
            " [ 0.97632654  1.82049063  0.1326423  -1.92552993 -0.70349899  1.26033579\n",
            "  -0.39922419  0.67526354]\n",
            " [ 0.31373313  0.97305745  0.53850262  1.1908357  -0.91723031  0.98094577\n",
            "  -1.16461067  1.58418976]\n",
            " [ 0.29072402  1.6008319  -1.34954098  0.24156335 -1.42140451 -0.73642022\n",
            "  -0.30595885 -1.52221799]]\n",
            "V\n",
            " [[ 0.79097351 -1.44719286 -0.80885359 -0.11991704 -1.2083264   1.90760162\n",
            "   0.09660963  0.22398411]\n",
            " [ 1.5706123  -1.45513936 -0.26028603  0.33463494  1.73969334  2.49307489\n",
            "  -0.70401291 -0.22745168]\n",
            " [ 0.15429062  0.37635407 -0.38529283  0.92416431  0.37941085 -0.24580396\n",
            "   0.18497829  0.5628831 ]\n",
            " [-0.45896432 -0.10557913  0.75559966  0.22997224 -0.64020131 -0.84673511\n",
            "   0.23981289  0.04688141]]\n"
          ]
        }
      ]
    },
    {
      "cell_type": "markdown",
      "source": [
        "## Self Attention\n",
        "\n",
        "$$\n",
        "\\text{self attention} = softmax\\bigg(\\frac{Q.K^T}{\\sqrt{d_k}}+M\\bigg)\n",
        "$$\n",
        "\n",
        "$$\n",
        "\\text{new V} = \\text{self attention}.V\n",
        "$$"
      ],
      "metadata": {
        "id": "tV6txskBLwjh"
      }
    },
    {
      "cell_type": "code",
      "source": [
        "np.matmul(q, k.T)"
      ],
      "metadata": {
        "colab": {
          "base_uri": "https://localhost:8080/"
        },
        "id": "x7GePHKk3Mh0",
        "outputId": "85c91c44-8326-4cb7-d48b-35bfab17ba47"
      },
      "execution_count": 2,
      "outputs": [
        {
          "output_type": "execute_result",
          "data": {
            "text/plain": [
              "array([[ 0.99968242,  2.48521869,  0.99022297,  0.23246704],\n",
              "       [ 3.45624174,  0.41924737,  1.25002168,  1.33799021],\n",
              "       [-1.21823541,  2.23287623, -3.37501046, -1.11386584],\n",
              "       [ 1.59483301, -1.19508959,  3.52297155,  1.73691772]])"
            ]
          },
          "metadata": {},
          "execution_count": 2
        }
      ]
    },
    {
      "cell_type": "code",
      "source": [
        "# Why we need sqrt(d_k) in denominator\n",
        "q.var(), k.var(), np.matmul(q, k.T).var()"
      ],
      "metadata": {
        "colab": {
          "base_uri": "https://localhost:8080/"
        },
        "id": "odK76OoI3nL2",
        "outputId": "b7c43dec-db18-4575-831b-bb4abfcfe902"
      },
      "execution_count": 3,
      "outputs": [
        {
          "output_type": "execute_result",
          "data": {
            "text/plain": [
              "(0.9773561173119378, 0.552814817073815, 3.189739897316829)"
            ]
          },
          "metadata": {},
          "execution_count": 3
        }
      ]
    },
    {
      "cell_type": "code",
      "source": [
        "scaled = np.matmul(q, k.T) / math.sqrt(d_k)\n",
        "q.var(), k.var(), scaled.var()"
      ],
      "metadata": {
        "colab": {
          "base_uri": "https://localhost:8080/"
        },
        "id": "0Ps6AY1Q3tRI",
        "outputId": "d8b0578a-9381-4808-ca86-71ce0f7109b7"
      },
      "execution_count": 4,
      "outputs": [
        {
          "output_type": "execute_result",
          "data": {
            "text/plain": [
              "(0.9773561173119378, 0.552814817073815, 0.3987174871646036)"
            ]
          },
          "metadata": {},
          "execution_count": 4
        }
      ]
    },
    {
      "cell_type": "code",
      "source": [
        "q.var()"
      ],
      "metadata": {
        "colab": {
          "base_uri": "https://localhost:8080/"
        },
        "id": "SU9ELK3eDjo_",
        "outputId": "9e87d214-19ee-4d05-bdd5-538f46a6bd24"
      },
      "execution_count": 5,
      "outputs": [
        {
          "output_type": "execute_result",
          "data": {
            "text/plain": [
              "0.9773561173119378"
            ]
          },
          "metadata": {},
          "execution_count": 5
        }
      ]
    },
    {
      "cell_type": "code",
      "source": [
        "q"
      ],
      "metadata": {
        "colab": {
          "base_uri": "https://localhost:8080/"
        },
        "id": "ctV-33PDD0-g",
        "outputId": "cd44e8f0-eeda-476b-9dd3-5bd9f0107a6a"
      },
      "execution_count": 6,
      "outputs": [
        {
          "output_type": "execute_result",
          "data": {
            "text/plain": [
              "array([[ 1.38905225,  1.19186346,  0.88148395, -0.32463032, -0.86934711,\n",
              "         0.64318405,  0.59280408,  0.63209254],\n",
              "       [-0.1240182 , -1.36702359,  0.39453158, -1.73559691, -2.05269885,\n",
              "        -0.64386136, -0.25463646,  0.21926453],\n",
              "       [-1.92515172,  0.55800565, -0.11161961,  0.5946847 ,  1.13986177,\n",
              "         1.37843431,  1.73472423,  0.39020062],\n",
              "       [ 0.28780968, -0.33984103,  0.42803332,  0.38788878, -1.92198321,\n",
              "        -0.33599494, -0.48475889,  0.1357611 ]])"
            ]
          },
          "metadata": {},
          "execution_count": 6
        }
      ]
    },
    {
      "cell_type": "markdown",
      "source": [
        "Notice the reduction in variance of the product"
      ],
      "metadata": {
        "id": "ypO9IK1PL3cJ"
      }
    },
    {
      "cell_type": "code",
      "source": [
        "scaled"
      ],
      "metadata": {
        "colab": {
          "base_uri": "https://localhost:8080/"
        },
        "id": "LVHAJR4N4VQX",
        "outputId": "5a6a0381-52d3-49f2-fbcb-2ad2519e55b5"
      },
      "execution_count": 7,
      "outputs": [
        {
          "output_type": "execute_result",
          "data": {
            "text/plain": [
              "array([[ 0.35344111,  0.87865749,  0.35009669,  0.08218951],\n",
              "       [ 1.22196599,  0.14822633,  0.4419494 ,  0.47305097],\n",
              "       [-0.43071126,  0.78944096, -1.19324639, -0.39381105],\n",
              "       [ 0.56385862, -0.42252798,  1.24555854,  0.61409315]])"
            ]
          },
          "metadata": {},
          "execution_count": 7
        }
      ]
    },
    {
      "cell_type": "markdown",
      "source": [
        "## Masking\n",
        "\n",
        "- This is to ensure words don't get context from words generated in the future.\n",
        "- Not required in the encoders, but required int he decoders"
      ],
      "metadata": {
        "id": "Dmz4v-RmMAaj"
      }
    },
    {
      "cell_type": "code",
      "source": [
        "mask = np.tril(np.ones( (L, L) ))\n",
        "mask"
      ],
      "metadata": {
        "colab": {
          "base_uri": "https://localhost:8080/"
        },
        "id": "e8N3OhSLILfG",
        "outputId": "dbc41a7a-b968-43e9-cab2-30ae370600fa"
      },
      "execution_count": 8,
      "outputs": [
        {
          "output_type": "execute_result",
          "data": {
            "text/plain": [
              "array([[1., 0., 0., 0.],\n",
              "       [1., 1., 0., 0.],\n",
              "       [1., 1., 1., 0.],\n",
              "       [1., 1., 1., 1.]])"
            ]
          },
          "metadata": {},
          "execution_count": 8
        }
      ]
    },
    {
      "cell_type": "code",
      "source": [
        "mask[mask == 0] = -np.infty\n",
        "mask[mask == 1] = 0"
      ],
      "metadata": {
        "id": "hIV9K3Yn6s1V"
      },
      "execution_count": 9,
      "outputs": []
    },
    {
      "cell_type": "code",
      "source": [
        "mask"
      ],
      "metadata": {
        "colab": {
          "base_uri": "https://localhost:8080/"
        },
        "id": "LK5V_T3W6vpX",
        "outputId": "5d58c2bf-8481-4cb5-91ee-14d692e2e71f"
      },
      "execution_count": 10,
      "outputs": [
        {
          "output_type": "execute_result",
          "data": {
            "text/plain": [
              "array([[  0., -inf, -inf, -inf],\n",
              "       [  0.,   0., -inf, -inf],\n",
              "       [  0.,   0.,   0., -inf],\n",
              "       [  0.,   0.,   0.,   0.]])"
            ]
          },
          "metadata": {},
          "execution_count": 10
        }
      ]
    },
    {
      "cell_type": "code",
      "source": [
        "scaled + mask"
      ],
      "metadata": {
        "colab": {
          "base_uri": "https://localhost:8080/"
        },
        "id": "lNH1VgEf7xTa",
        "outputId": "f50ee9f1-2682-4edb-8032-ef68e65db738"
      },
      "execution_count": 11,
      "outputs": [
        {
          "output_type": "execute_result",
          "data": {
            "text/plain": [
              "array([[ 0.35344111,        -inf,        -inf,        -inf],\n",
              "       [ 1.22196599,  0.14822633,        -inf,        -inf],\n",
              "       [-0.43071126,  0.78944096, -1.19324639,        -inf],\n",
              "       [ 0.56385862, -0.42252798,  1.24555854,  0.61409315]])"
            ]
          },
          "metadata": {},
          "execution_count": 11
        }
      ]
    },
    {
      "cell_type": "markdown",
      "source": [
        "## Softmax\n",
        "\n",
        "$$\n",
        "\\text{softmax} = \\frac{e^{x_i}}{\\sum_j e^x_j}\n",
        "$$"
      ],
      "metadata": {
        "id": "XMTAXjooN9eZ"
      }
    },
    {
      "cell_type": "code",
      "source": [
        "def softmax(x):\n",
        "  return (np.exp(x).T / np.sum(np.exp(x), axis=-1)).T"
      ],
      "metadata": {
        "id": "2R4gdRqj8W4Y"
      },
      "execution_count": 12,
      "outputs": []
    },
    {
      "cell_type": "code",
      "source": [
        "attention = softmax(scaled + mask)"
      ],
      "metadata": {
        "id": "K5eg2zPy41sP"
      },
      "execution_count": 13,
      "outputs": []
    },
    {
      "cell_type": "code",
      "source": [
        "attention"
      ],
      "metadata": {
        "colab": {
          "base_uri": "https://localhost:8080/"
        },
        "id": "7sauNmfl-1TB",
        "outputId": "7884bc49-dcc0-402e-9235-ab9b936885bd"
      },
      "execution_count": null,
      "outputs": [
        {
          "output_type": "execute_result",
          "data": {
            "text/plain": [
              "array([[1.        , 0.        , 0.        , 0.        ],\n",
              "       [0.66175691, 0.33824309, 0.        , 0.        ],\n",
              "       [0.24477442, 0.42487923, 0.33034636, 0.        ],\n",
              "       [0.14346915, 0.43745742, 0.23915437, 0.17991907]])"
            ]
          },
          "metadata": {},
          "execution_count": 16
        }
      ]
    },
    {
      "cell_type": "code",
      "source": [
        "new_v = np.matmul(attention, v)\n",
        "new_v"
      ],
      "metadata": {
        "colab": {
          "base_uri": "https://localhost:8080/"
        },
        "id": "BAy37go56LZo",
        "outputId": "c85d62af-c0be-443d-ae17-e473f0a9b942"
      },
      "execution_count": 15,
      "outputs": [
        {
          "output_type": "execute_result",
          "data": {
            "text/plain": [
              "array([[ 0.4518304 , -1.11781126, -0.6164827 , -1.0088047 , -1.35845577,\n",
              "        -0.54871931, -0.6643454 , -0.84114448],\n",
              "       [ 0.63016241, -0.95004634, -0.32841113, -0.79463558, -0.96910556,\n",
              "        -0.23129338, -0.56308456, -0.93180638],\n",
              "       [ 0.96544514, -0.44854885,  0.2698335 , -0.3930442 , -0.25937312,\n",
              "         0.344086  , -0.31649545, -0.78575067],\n",
              "       [ 0.31149247, -0.11422097,  0.03789597, -0.20867083, -0.38985792,\n",
              "        -0.14512092,  0.18535288,  0.87024363]])"
            ]
          },
          "metadata": {},
          "execution_count": 15
        }
      ]
    },
    {
      "cell_type": "code",
      "source": [
        "v"
      ],
      "metadata": {
        "colab": {
          "base_uri": "https://localhost:8080/"
        },
        "id": "vCP2aZOU9VrT",
        "outputId": "267b9130-2f27-4167-e037-409ca2f49360"
      },
      "execution_count": 16,
      "outputs": [
        {
          "output_type": "execute_result",
          "data": {
            "text/plain": [
              "array([[ 0.4518304 , -1.11781126, -0.6164827 , -1.0088047 , -1.35845577,\n",
              "        -0.54871931, -0.6643454 , -0.84114448],\n",
              "       [ 1.15201581, -0.45911543,  0.5145734 , -0.16791197,  0.17025089,\n",
              "         0.6975909 , -0.26676474, -1.19711051],\n",
              "       [ 0.71156333,  1.06288856,  0.39247476, -0.70799863, -1.02329497,\n",
              "        -0.30923866,  0.06803584,  2.3203882 ],\n",
              "       [-0.87234105, -1.25087748, -0.17557706,  1.47672444,  1.5237339 ,\n",
              "         0.24843624,  1.37436404,  0.5041741 ]])"
            ]
          },
          "metadata": {},
          "execution_count": 16
        }
      ]
    },
    {
      "cell_type": "code",
      "source": [],
      "metadata": {
        "id": "h_JndWelLDNW"
      },
      "execution_count": null,
      "outputs": []
    },
    {
      "cell_type": "markdown",
      "source": [
        "# Function"
      ],
      "metadata": {
        "id": "nSiJuBQELFHT"
      }
    },
    {
      "cell_type": "code",
      "source": [
        "def softmax(x):\n",
        "  return (np.exp(x).T / np.sum(np.exp(x), axis=-1)).T\n",
        "\n",
        "def scaled_dot_product_attention(q, k, v, mask=None):\n",
        "  d_k = q.shape[-1]\n",
        "  scaled = np.matmul(q, k.T) / math.sqrt(d_k)\n",
        "  if mask is not None:\n",
        "    scaled = scaled + mask\n",
        "  attention = softmax(scaled)\n",
        "  out = np.matmul(attention, v)\n",
        "  return out, attention"
      ],
      "metadata": {
        "id": "XvTnmdcB_jdq"
      },
      "execution_count": 17,
      "outputs": []
    },
    {
      "cell_type": "code",
      "source": [
        "values, attention = scaled_dot_product_attention(q, k, v, mask=1)\n",
        "print(\"Q\\n\", q)\n",
        "print(\"K\\n\", k)\n",
        "print(\"V\\n\", v)\n",
        "print(\"New V\\n\", values)\n",
        "print(\"Attention\\n\", attention)"
      ],
      "metadata": {
        "colab": {
          "base_uri": "https://localhost:8080/"
        },
        "id": "KSxLkZdiSLMT",
        "outputId": "1619d31d-7a8b-4676-f10c-73626b887de9"
      },
      "execution_count": 18,
      "outputs": [
        {
          "output_type": "stream",
          "name": "stdout",
          "text": [
            "Q\n",
            " [[ 1.38905225  1.19186346  0.88148395 -0.32463032 -0.86934711  0.64318405\n",
            "   0.59280408  0.63209254]\n",
            " [-0.1240182  -1.36702359  0.39453158 -1.73559691 -2.05269885 -0.64386136\n",
            "  -0.25463646  0.21926453]\n",
            " [-1.92515172  0.55800565 -0.11161961  0.5946847   1.13986177  1.37843431\n",
            "   1.73472423  0.39020062]\n",
            " [ 0.28780968 -0.33984103  0.42803332  0.38788878 -1.92198321 -0.33599494\n",
            "  -0.48475889  0.1357611 ]]\n",
            "K\n",
            " [[ 0.36519457 -0.14110782 -1.10518068 -0.74009487 -1.49381809  0.23658004\n",
            "   0.94368935 -0.97407051]\n",
            " [ 0.05709775  0.46349096  0.3676294  -1.10056692  0.07724166  1.15229172\n",
            "   0.58136812  0.24288999]\n",
            " [ 0.51292077  0.602594   -1.02323547  0.92924403 -1.75931246 -0.9341624\n",
            "   0.00332954 -0.26487062]\n",
            " [-0.36683261  0.58602813 -0.26363397 -0.04792898 -1.10491872  0.11954381\n",
            "  -0.419089   -0.83631392]]\n",
            "V\n",
            " [[ 0.4518304  -1.11781126 -0.6164827  -1.0088047  -1.35845577 -0.54871931\n",
            "  -0.6643454  -0.84114448]\n",
            " [ 1.15201581 -0.45911543  0.5145734  -0.16791197  0.17025089  0.6975909\n",
            "  -0.26676474 -1.19711051]\n",
            " [ 0.71156333  1.06288856  0.39247476 -0.70799863 -1.02329497 -0.30923866\n",
            "   0.06803584  2.3203882 ]\n",
            " [-0.87234105 -1.25087748 -0.17557706  1.47672444  1.5237339   0.24843624\n",
            "   1.37436404  0.5041741 ]]\n",
            "New V\n",
            " [[ 5.49175177e-01 -4.01908091e-01  1.14804733e-01 -1.96061929e-01\n",
            "  -2.08709242e-01  1.15056775e-01  5.84053436e-05 -3.78014127e-02]\n",
            " [ 3.33995653e-01 -6.06681937e-01 -1.51233845e-01 -3.04626532e-01\n",
            "  -4.61420153e-01 -1.47209024e-01 -3.27366235e-02  2.28089581e-02]\n",
            " [ 6.41796057e-01 -5.89845442e-01  1.91393078e-01 -6.37627468e-02\n",
            "   5.46465129e-02  3.27241303e-01 -1.87213558e-02 -5.58584442e-01]\n",
            " [ 3.11492474e-01 -1.14220972e-01  3.78959745e-02 -2.08670827e-01\n",
            "  -3.89857918e-01 -1.45120917e-01  1.85352880e-01  8.70243628e-01]]\n",
            "Attention\n",
            " [[0.22472362 0.37996824 0.22397331 0.17133483]\n",
            " [0.43994606 0.15034197 0.20167057 0.2080414 ]\n",
            " [0.16972813 0.57498857 0.07917518 0.17610812]\n",
            " [0.22718622 0.08472269 0.44920077 0.23889032]]\n"
          ]
        }
      ]
    },
    {
      "cell_type": "code",
      "source": [
        "values"
      ],
      "metadata": {
        "colab": {
          "base_uri": "https://localhost:8080/"
        },
        "id": "M9qCq1cREq0n",
        "outputId": "f8802a02-e573-4040-8cd1-f6550317d445"
      },
      "execution_count": null,
      "outputs": [
        {
          "output_type": "execute_result",
          "data": {
            "text/plain": [
              "array([[ 0.79956317, -0.73564748, -0.26162336,  0.44419674,  0.65131838,\n",
              "         1.19261664, -0.21407408,  0.11010225],\n",
              "       [ 0.41067204, -0.60665665, -0.01281275,  0.32600419,  0.06311218,\n",
              "         0.63413812, -0.03969421,  0.10818871],\n",
              "       [ 0.44464447, -0.45774848, -0.36839081,  0.45117879, -0.0726794 ,\n",
              "         0.66948065,  0.06045603,  0.30557085],\n",
              "       [ 0.65615294, -0.92339818, -0.5288817 ,  0.2113847 , -0.40626596,\n",
              "         1.28408196,  0.02249295,  0.23302734]])"
            ]
          },
          "metadata": {},
          "execution_count": 22
        }
      ]
    },
    {
      "cell_type": "code",
      "source": [
        "d_k = q.shape[-1]"
      ],
      "metadata": {
        "id": "-HtQQtB2LJus"
      },
      "execution_count": null,
      "outputs": []
    },
    {
      "cell_type": "code",
      "source": [
        "d_k"
      ],
      "metadata": {
        "colab": {
          "base_uri": "https://localhost:8080/"
        },
        "id": "LIlHKXkGe4kW",
        "outputId": "4332d209-0f2a-4c13-c792-25f3a1a5b5cb"
      },
      "execution_count": null,
      "outputs": [
        {
          "output_type": "execute_result",
          "data": {
            "text/plain": [
              "8"
            ]
          },
          "metadata": {},
          "execution_count": 25
        }
      ]
    }
  ]
}