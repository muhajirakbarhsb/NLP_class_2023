{
  "cells": [
    {
      "cell_type": "markdown",
      "metadata": {
        "id": "view-in-github",
        "colab_type": "text"
      },
      "source": [
        "<a href=\"https://colab.research.google.com/github/muhajirakbarhsb/NLP_class_2023/blob/main/transformer_embeddings.ipynb\" target=\"_parent\"><img src=\"https://colab.research.google.com/assets/colab-badge.svg\" alt=\"Open In Colab\"/></a>"
      ]
    },
    {
      "cell_type": "code",
      "source": [
        "!pip install transformers"
      ],
      "metadata": {
        "colab": {
          "base_uri": "https://localhost:8080/"
        },
        "id": "4puyweuTogBx",
        "outputId": "f7b73814-27aa-4543-f88e-f3e0625031c7"
      },
      "id": "4puyweuTogBx",
      "execution_count": 2,
      "outputs": [
        {
          "output_type": "stream",
          "name": "stdout",
          "text": [
            "Collecting transformers\n",
            "  Downloading transformers-4.35.0-py3-none-any.whl (7.9 MB)\n",
            "\u001b[2K     \u001b[90m━━━━━━━━━━━━━━━━━━━━━━━━━━━━━━━━━━━━━━━━\u001b[0m \u001b[32m7.9/7.9 MB\u001b[0m \u001b[31m59.5 MB/s\u001b[0m eta \u001b[36m0:00:00\u001b[0m\n",
            "\u001b[?25hRequirement already satisfied: filelock in /usr/local/lib/python3.10/dist-packages (from transformers) (3.13.1)\n",
            "Collecting huggingface-hub<1.0,>=0.16.4 (from transformers)\n",
            "  Downloading huggingface_hub-0.19.0-py3-none-any.whl (311 kB)\n",
            "\u001b[2K     \u001b[90m━━━━━━━━━━━━━━━━━━━━━━━━━━━━━━━━━━━━━━━━\u001b[0m \u001b[32m311.2/311.2 kB\u001b[0m \u001b[31m38.8 MB/s\u001b[0m eta \u001b[36m0:00:00\u001b[0m\n",
            "\u001b[?25hRequirement already satisfied: numpy>=1.17 in /usr/local/lib/python3.10/dist-packages (from transformers) (1.23.5)\n",
            "Requirement already satisfied: packaging>=20.0 in /usr/local/lib/python3.10/dist-packages (from transformers) (23.2)\n",
            "Requirement already satisfied: pyyaml>=5.1 in /usr/local/lib/python3.10/dist-packages (from transformers) (6.0.1)\n",
            "Requirement already satisfied: regex!=2019.12.17 in /usr/local/lib/python3.10/dist-packages (from transformers) (2023.6.3)\n",
            "Requirement already satisfied: requests in /usr/local/lib/python3.10/dist-packages (from transformers) (2.31.0)\n",
            "Collecting tokenizers<0.15,>=0.14 (from transformers)\n",
            "  Downloading tokenizers-0.14.1-cp310-cp310-manylinux_2_17_x86_64.manylinux2014_x86_64.whl (3.8 MB)\n",
            "\u001b[2K     \u001b[90m━━━━━━━━━━━━━━━━━━━━━━━━━━━━━━━━━━━━━━━━\u001b[0m \u001b[32m3.8/3.8 MB\u001b[0m \u001b[31m119.2 MB/s\u001b[0m eta \u001b[36m0:00:00\u001b[0m\n",
            "\u001b[?25hCollecting safetensors>=0.3.1 (from transformers)\n",
            "  Downloading safetensors-0.4.0-cp310-cp310-manylinux_2_17_x86_64.manylinux2014_x86_64.whl (1.3 MB)\n",
            "\u001b[2K     \u001b[90m━━━━━━━━━━━━━━━━━━━━━━━━━━━━━━━━━━━━━━━━\u001b[0m \u001b[32m1.3/1.3 MB\u001b[0m \u001b[31m82.2 MB/s\u001b[0m eta \u001b[36m0:00:00\u001b[0m\n",
            "\u001b[?25hRequirement already satisfied: tqdm>=4.27 in /usr/local/lib/python3.10/dist-packages (from transformers) (4.66.1)\n",
            "Requirement already satisfied: fsspec>=2023.5.0 in /usr/local/lib/python3.10/dist-packages (from huggingface-hub<1.0,>=0.16.4->transformers) (2023.6.0)\n",
            "Requirement already satisfied: typing-extensions>=3.7.4.3 in /usr/local/lib/python3.10/dist-packages (from huggingface-hub<1.0,>=0.16.4->transformers) (4.5.0)\n",
            "Collecting huggingface-hub<1.0,>=0.16.4 (from transformers)\n",
            "  Downloading huggingface_hub-0.17.3-py3-none-any.whl (295 kB)\n",
            "\u001b[2K     \u001b[90m━━━━━━━━━━━━━━━━━━━━━━━━━━━━━━━━━━━━━━━━\u001b[0m \u001b[32m295.0/295.0 kB\u001b[0m \u001b[31m27.5 MB/s\u001b[0m eta \u001b[36m0:00:00\u001b[0m\n",
            "\u001b[?25hRequirement already satisfied: charset-normalizer<4,>=2 in /usr/local/lib/python3.10/dist-packages (from requests->transformers) (3.3.2)\n",
            "Requirement already satisfied: idna<4,>=2.5 in /usr/local/lib/python3.10/dist-packages (from requests->transformers) (3.4)\n",
            "Requirement already satisfied: urllib3<3,>=1.21.1 in /usr/local/lib/python3.10/dist-packages (from requests->transformers) (2.0.7)\n",
            "Requirement already satisfied: certifi>=2017.4.17 in /usr/local/lib/python3.10/dist-packages (from requests->transformers) (2023.7.22)\n",
            "Installing collected packages: safetensors, huggingface-hub, tokenizers, transformers\n",
            "Successfully installed huggingface-hub-0.17.3 safetensors-0.4.0 tokenizers-0.14.1 transformers-4.35.0\n"
          ]
        }
      ]
    },
    {
      "cell_type": "code",
      "execution_count": 3,
      "id": "b1d788eb-3d03-4b0d-8769-a908b3185cb7",
      "metadata": {
        "id": "b1d788eb-3d03-4b0d-8769-a908b3185cb7"
      },
      "outputs": [],
      "source": [
        "from transformers import AutoTokenizer, AutoModelForSequenceClassification\n",
        "import torch"
      ]
    },
    {
      "cell_type": "code",
      "execution_count": 4,
      "id": "e1294d0d-6a80-4d52-b0ea-82a363b6ed64",
      "metadata": {
        "id": "e1294d0d-6a80-4d52-b0ea-82a363b6ed64"
      },
      "outputs": [],
      "source": [
        "model_name = \"distilbert-base-uncased-finetuned-sst-2-english\""
      ]
    },
    {
      "cell_type": "code",
      "execution_count": 5,
      "id": "b2cba43d-3db3-4986-81a0-4fb259896f0a",
      "metadata": {
        "colab": {
          "base_uri": "https://localhost:8080/",
          "height": 113,
          "referenced_widgets": [
            "878adbbf7d644729abdf18737019897b",
            "95bc042d83b747c696f21c9727ae2f91",
            "6eacc98bc95248c9a0feca85bbda0288",
            "76227bd1d076476a9b6ef22c07d26a5c",
            "cdea01edef0b45199fcf9f83326bbf44",
            "323d2f2f0d17477b9173d6cba07eabb3",
            "3798d767bf574cf0b56f2297d14b6b28",
            "0ace15fef37344ff8af2ba2160a43030",
            "b7db4f7bd3a5415d81edaff902724fbf",
            "23f2de64b8f04acb94259fb9f7295d35",
            "b8cc7c9d362744ac9ad6670c251178b0",
            "6562e703f13a471084b5de1a4ff5ec16",
            "756a1331de624de1a0dab5cb56925d26",
            "f3b2af1330074f07885cb2461320500e",
            "4df7b3851cb64934ba8f423e88cd69a8",
            "e71abe41e5e94f3a996f8ef5d1dc076c",
            "e41c9e79cf0a4b29b4cd181a22fc5723",
            "505246e47dd44fb49cd7700205ee6f61",
            "e2801c1125f8434499a928bd3e814f2b",
            "d5b81957c3f2460da185685f8bc444fc",
            "67e062453300498ea59d23e99e8dd7f2",
            "7dc00a0c9bdf4112b21f7f15c32b22d4",
            "b7501a45643446b18f1c8726192d7ecc",
            "700fdbfbef184c7da9276c5eed474845",
            "1abacc6d740d4eaeb63a0fabd74038da",
            "34caa399759346fa969701eaba5e3004",
            "3bfd5950d2b54565959920e2f3b7e5d8",
            "bf9aa244242040c1946d5369a02803c4",
            "19acba9c8e994e008278289d3d5124df",
            "f8830369c5204474a91d6ee6f675d11e",
            "a631d5086db5423ba23bb21d29323edf",
            "8c6718b96e3e425c9ab98820dfd4dcfe",
            "10c0f36bd4b8435da5dd695ba218e296"
          ]
        },
        "id": "b2cba43d-3db3-4986-81a0-4fb259896f0a",
        "outputId": "698afcd4-ed5e-4e4e-a120-3e2b5eae3985"
      },
      "outputs": [
        {
          "output_type": "display_data",
          "data": {
            "text/plain": [
              "Downloading (…)okenizer_config.json:   0%|          | 0.00/48.0 [00:00<?, ?B/s]"
            ],
            "application/vnd.jupyter.widget-view+json": {
              "version_major": 2,
              "version_minor": 0,
              "model_id": "878adbbf7d644729abdf18737019897b"
            }
          },
          "metadata": {}
        },
        {
          "output_type": "display_data",
          "data": {
            "text/plain": [
              "Downloading (…)lve/main/config.json:   0%|          | 0.00/629 [00:00<?, ?B/s]"
            ],
            "application/vnd.jupyter.widget-view+json": {
              "version_major": 2,
              "version_minor": 0,
              "model_id": "6562e703f13a471084b5de1a4ff5ec16"
            }
          },
          "metadata": {}
        },
        {
          "output_type": "display_data",
          "data": {
            "text/plain": [
              "Downloading (…)solve/main/vocab.txt:   0%|          | 0.00/232k [00:00<?, ?B/s]"
            ],
            "application/vnd.jupyter.widget-view+json": {
              "version_major": 2,
              "version_minor": 0,
              "model_id": "b7501a45643446b18f1c8726192d7ecc"
            }
          },
          "metadata": {}
        }
      ],
      "source": [
        "tokenizer = AutoTokenizer.from_pretrained(model_name)"
      ]
    },
    {
      "cell_type": "code",
      "execution_count": 6,
      "id": "c1addd7b-19bd-4d4a-9b4a-430e73bb99b5",
      "metadata": {
        "colab": {
          "base_uri": "https://localhost:8080/",
          "height": 49,
          "referenced_widgets": [
            "059e367af3b840e8a528bded9fef800d",
            "c91fac69879a4efda7b9730d09dc649b",
            "841e55cb65194daab5dd4f2c1acaf011",
            "c78567e9d8024434bddd28c6dc379cb5",
            "ef4a9a2e451b4bb49120e406e1ee3ba9",
            "c7fac57806ca4f2ea13c2ed54ddb1271",
            "0227b294d5124eadaf9d075fc2ec56e3",
            "00a615eaebe548f19b8e29e97d56d4f5",
            "f7aa69d89bec4b32accb58d8e32b9f85",
            "b39362a156834b70841e25bb188da22e",
            "be1ecfdd18384a558015312362a0b941"
          ]
        },
        "id": "c1addd7b-19bd-4d4a-9b4a-430e73bb99b5",
        "outputId": "9daf25f9-bd69-465f-f755-26f100c2af96"
      },
      "outputs": [
        {
          "output_type": "display_data",
          "data": {
            "text/plain": [
              "Downloading model.safetensors:   0%|          | 0.00/268M [00:00<?, ?B/s]"
            ],
            "application/vnd.jupyter.widget-view+json": {
              "version_major": 2,
              "version_minor": 0,
              "model_id": "059e367af3b840e8a528bded9fef800d"
            }
          },
          "metadata": {}
        }
      ],
      "source": [
        "model = AutoModelForSequenceClassification.from_pretrained(model_name)"
      ]
    },
    {
      "cell_type": "code",
      "execution_count": 7,
      "id": "80a44a55-3143-420c-ac11-cfb921a8573c",
      "metadata": {
        "colab": {
          "base_uri": "https://localhost:8080/"
        },
        "id": "80a44a55-3143-420c-ac11-cfb921a8573c",
        "outputId": "1b216b70-b320-4971-c705-0d33ae0fa5c2"
      },
      "outputs": [
        {
          "output_type": "stream",
          "name": "stdout",
          "text": [
            "Input text: 'I believe that the EU is trustworthy.'\n",
            "\n"
          ]
        }
      ],
      "source": [
        "\n",
        "### 1. Tokenization\n",
        "# Tokenizer documentation: https://huggingface.co/transformers/main_classes/tokenizer.html\n",
        "\n",
        "text = 'I believe that the EU is trustworthy.'\n",
        "print(f\"Input text: '{text}'\\n\")"
      ]
    },
    {
      "cell_type": "code",
      "execution_count": 8,
      "id": "8d25ff59-842c-414a-9366-8e0d8e540607",
      "metadata": {
        "colab": {
          "base_uri": "https://localhost:8080/"
        },
        "id": "8d25ff59-842c-414a-9366-8e0d8e540607",
        "outputId": "6a5bbb58-8e75-47e8-cd1f-a0db0ab00d4d"
      },
      "outputs": [
        {
          "output_type": "stream",
          "name": "stdout",
          "text": [
            "The tokenizer splits the text string into separate tokens. A token is either an entire word,\n",
            "or a 'sub-word unit' in case of rare words (or punctuation).\n",
            "The word 'trustworthy', for example is split into two tokens: ['trust', '##worthy'].\n",
            "The main advantage of these sub-word units is that rare words cannot be out-of-vocabulary (an issue of other text-as-data approaches).\n",
            "Transformer models typically have a vocabulary of around 30.000 - 250.000 tokens, learned from the training data.\n",
            "Here is e.g. the vocabulary of DistilBERT: https://huggingface.co/distilbert-base-uncased/resolve/main/vocab.txt\n",
            "\n"
          ]
        }
      ],
      "source": [
        "\n",
        "input_ids = tokenizer(text, truncation=True, return_tensors=\"pt\")[\"input_ids\"]\n",
        "print(f\"\"\"The tokenizer splits the text string into separate tokens. A token is either an entire word,\n",
        "or a 'sub-word unit' in case of rare words (or punctuation).\n",
        "The word 'trustworthy', for example is split into two tokens: {tokenizer.tokenize(\"Trustworthy\")}.\n",
        "The main advantage of these sub-word units is that rare words cannot be out-of-vocabulary (an issue of other text-as-data approaches).\n",
        "Transformer models typically have a vocabulary of around 30.000 - 250.000 tokens, learned from the training data.\n",
        "Here is e.g. the vocabulary of DistilBERT: https://huggingface.co/distilbert-base-uncased/resolve/main/vocab.txt\\n\"\"\")"
      ]
    },
    {
      "cell_type": "code",
      "execution_count": 9,
      "id": "4cb13689-d9ab-4d65-a9f1-de0d2f58f3ac",
      "metadata": {
        "colab": {
          "base_uri": "https://localhost:8080/"
        },
        "id": "4cb13689-d9ab-4d65-a9f1-de0d2f58f3ac",
        "outputId": "9ff276a2-ec03-44db-9b14-9cdd024dabdb"
      },
      "outputs": [
        {
          "output_type": "execute_result",
          "data": {
            "text/plain": [
              "[101, 1045, 2903, 2008, 1996, 7327, 2003, 3404, 13966, 1012, 102]"
            ]
          },
          "metadata": {},
          "execution_count": 9
        }
      ],
      "source": [
        "input_ids[0].tolist()"
      ]
    },
    {
      "cell_type": "code",
      "execution_count": 10,
      "id": "ce46761f-5bc7-4ac5-8c62-c18c516a4a66",
      "metadata": {
        "colab": {
          "base_uri": "https://localhost:8080/"
        },
        "id": "ce46761f-5bc7-4ac5-8c62-c18c516a4a66",
        "outputId": "920286e8-ae71-4318-c96d-173f601145ae"
      },
      "outputs": [
        {
          "output_type": "execute_result",
          "data": {
            "text/plain": [
              "{'input_ids': tensor([[  101,  1045,  2903,  2008,  1996,  7327,  2003,  3404, 13966,  1012,\n",
              "           102]]), 'attention_mask': tensor([[1, 1, 1, 1, 1, 1, 1, 1, 1, 1, 1]])}"
            ]
          },
          "metadata": {},
          "execution_count": 10
        }
      ],
      "source": [
        "tokenizer(text, truncation=True, return_tensors=\"pt\")"
      ]
    },
    {
      "cell_type": "code",
      "execution_count": 11,
      "id": "7bf46fde-d1ed-41fa-8b81-c80b2cfd0257",
      "metadata": {
        "colab": {
          "base_uri": "https://localhost:8080/"
        },
        "id": "7bf46fde-d1ed-41fa-8b81-c80b2cfd0257",
        "outputId": "a7aa8a78-89bc-4a97-800e-d48dc5ed1fcb"
      },
      "outputs": [
        {
          "output_type": "execute_result",
          "data": {
            "text/plain": [
              "['i', 'believe', 'that', 'the', 'eu', 'is', 'trust', '##worthy', '.']"
            ]
          },
          "metadata": {},
          "execution_count": 11
        }
      ],
      "source": [
        "tokenizer.tokenize(text)"
      ]
    },
    {
      "cell_type": "code",
      "execution_count": 12,
      "id": "3d04a68b-e11f-4880-b121-40a1a09cb0ab",
      "metadata": {
        "colab": {
          "base_uri": "https://localhost:8080/"
        },
        "id": "3d04a68b-e11f-4880-b121-40a1a09cb0ab",
        "outputId": "8c3082bc-03be-4238-c4d3-ab8662bf8b02"
      },
      "outputs": [
        {
          "output_type": "stream",
          "name": "stdout",
          "text": [
            "The input text is split into the following tokens:\n",
            "['i', 'believe', 'that', 'the', 'eu', 'is', 'trust', '##worthy', '.'].\n",
            "The tokenizer then maps each token to the corresponding token ID in the model's vocabulary:\n",
            "[1045, 2903, 2008, 1996, 7327, 2003, 3404, 13966, 1012]\n",
            "Transformer models only understand these token IDs.\n",
            "\n"
          ]
        }
      ],
      "source": [
        "print(f\"The input text is split into the following tokens:\\n{tokenizer.tokenize(text)}.\")\n",
        "print(\"The tokenizer then maps each token to the corresponding token ID in the model's vocabulary:\")\n",
        "print(input_ids[0].tolist()[1:-1])\n",
        "print(\"Transformer models only understand these token IDs.\\n\")"
      ]
    },
    {
      "cell_type": "code",
      "execution_count": 13,
      "id": "b6b8970a-62a9-4b0d-b407-a69a8cef2739",
      "metadata": {
        "colab": {
          "base_uri": "https://localhost:8080/"
        },
        "id": "b6b8970a-62a9-4b0d-b407-a69a8cef2739",
        "outputId": "4cc0467e-3416-4d96-eae0-e512a474465a"
      },
      "outputs": [
        {
          "output_type": "stream",
          "name": "stdout",
          "text": [
            "In addition, the tokenizer adds two special tokens:\n",
            " First, the [CLS] (classification) token is always added at the beginning.\n",
            "        While individual tokens represent individual (sub)words, the [CLS] token represents the entire text.\n",
            "        The [CLS] token \"is  used  as  the  aggregate sequence representation for classification tasks\" (Devlin et al. 2019: 4). Details: https://arxiv.org/pdf/1810.04805.pdf\n",
            " Second, the [SEP] token separates two texts. It is useful for tasks which require two text inputs, for example Questions & Answer tasks.\n",
            "        (It is not relevant in our case)\n",
            "\n",
            "\n"
          ]
        }
      ],
      "source": [
        "print(\"\"\"In addition, the tokenizer adds two special tokens:\n",
        " First, the [CLS] (classification) token is always added at the beginning.\n",
        "        While individual tokens represent individual (sub)words, the [CLS] token represents the entire text.\n",
        "        The [CLS] token \"is  used  as  the  aggregate sequence representation for classification tasks\" (Devlin et al. 2019: 4). Details: https://arxiv.org/pdf/1810.04805.pdf\n",
        " Second, the [SEP] token separates two texts. It is useful for tasks which require two text inputs, for example Questions & Answer tasks.\n",
        "        (It is not relevant in our case)\n",
        "\\n\"\"\")"
      ]
    },
    {
      "cell_type": "code",
      "execution_count": 14,
      "id": "5b2e125e-6e82-450c-bab6-286ae50759a5",
      "metadata": {
        "colab": {
          "base_uri": "https://localhost:8080/"
        },
        "id": "5b2e125e-6e82-450c-bab6-286ae50759a5",
        "outputId": "7a965241-fd21-4a6d-e632-3026a5cb54da"
      },
      "outputs": [
        {
          "output_type": "stream",
          "name": "stdout",
          "text": [
            "The final input for a BERT transformer model therefore looks like this:\n",
            "101  ==  [CLS]\n",
            "1045  ==  i\n",
            "2903  ==  believe\n",
            "2008  ==  that\n",
            "1996  ==  the\n",
            "7327  ==  eu\n",
            "2003  ==  is\n",
            "3404  ==  trust\n",
            "13966  ==  ##worthy\n",
            "1012  ==  .\n",
            "102  ==  [SEP]\n"
          ]
        }
      ],
      "source": [
        "print(\"\"\"The final input for a BERT transformer model therefore looks like this:\"\"\")\n",
        "token_strings = tokenizer.convert_ids_to_tokens(ids=input_ids[0])\n",
        "#token_strings = tokenizer.tokenize(text)\n",
        "for token_id, token_string in zip(input_ids[0].tolist(), token_strings):\n",
        "  print(token_id, \" == \", token_string)\n",
        "\n",
        "\n",
        "# entire vocabulary: tokenizer.pretrained_vocab_files_map[\"vocab_file\"][\"distilbert-base-uncased\"]\n",
        "# https://huggingface.co/distilbert-base-uncased/resolve/main/vocab.txt"
      ]
    },
    {
      "cell_type": "code",
      "execution_count": 15,
      "id": "97033796-cf9f-4fe6-b7f1-56090861f338",
      "metadata": {
        "colab": {
          "base_uri": "https://localhost:8080/"
        },
        "id": "97033796-cf9f-4fe6-b7f1-56090861f338",
        "outputId": "a1daf14e-d6df-4649-f1c9-4b8e80a54a2c"
      },
      "outputs": [
        {
          "output_type": "execute_result",
          "data": {
            "text/plain": [
              "tensor([  101,  1045,  2903,  2008,  1996,  7327,  2003,  3404, 13966,  1012,\n",
              "          102])"
            ]
          },
          "metadata": {},
          "execution_count": 15
        }
      ],
      "source": [
        "input_ids[0]"
      ]
    },
    {
      "cell_type": "code",
      "execution_count": 16,
      "id": "c7415508-9e1c-44ac-9147-9f41b12ccecd",
      "metadata": {
        "colab": {
          "base_uri": "https://localhost:8080/"
        },
        "id": "c7415508-9e1c-44ac-9147-9f41b12ccecd",
        "outputId": "cedb57b1-57e2-45c4-9c97-c6aac50642b6"
      },
      "outputs": [
        {
          "output_type": "execute_result",
          "data": {
            "text/plain": [
              "['[CLS]',\n",
              " 'i',\n",
              " 'believe',\n",
              " 'that',\n",
              " 'the',\n",
              " 'eu',\n",
              " 'is',\n",
              " 'trust',\n",
              " '##worthy',\n",
              " '.',\n",
              " '[SEP]']"
            ]
          },
          "metadata": {},
          "execution_count": 16
        }
      ],
      "source": [
        "token_strings = tokenizer.convert_ids_to_tokens(ids=input_ids[0])\n",
        "token_strings"
      ]
    },
    {
      "cell_type": "code",
      "execution_count": 17,
      "id": "a51a24ca-3aa3-4c45-bcfa-edcd71fb5fb9",
      "metadata": {
        "colab": {
          "base_uri": "https://localhost:8080/"
        },
        "id": "a51a24ca-3aa3-4c45-bcfa-edcd71fb5fb9",
        "outputId": "d98be272-4a69-4b28-b889-3b202608c532"
      },
      "outputs": [
        {
          "output_type": "stream",
          "name": "stdout",
          "text": [
            "101 [CLS]\n",
            "1045 i\n",
            "2903 believe\n",
            "2008 that\n",
            "1996 the\n",
            "7327 eu\n",
            "2003 is\n",
            "3404 trust\n",
            "13966 ##worthy\n",
            "1012 .\n",
            "102 [SEP]\n"
          ]
        }
      ],
      "source": [
        "for a,b in zip(input_ids[0].tolist(), token_strings):\n",
        "    print(a,b)"
      ]
    },
    {
      "cell_type": "code",
      "execution_count": 18,
      "id": "828c36bc-8790-417e-8ff9-94c70aa64527",
      "metadata": {
        "id": "828c36bc-8790-417e-8ff9-94c70aa64527"
      },
      "outputs": [],
      "source": [
        "text1 = \"I learn python programming\"\n",
        "text2 = \"the elephant is bitten by python snake\"\n",
        "#text1 = \"I cook dinner everyday\"\n",
        "#text2 = \"Mr cook went to sydney\"\n",
        "text3 = \"I study python programming\"\n",
        "inp1 = tokenizer(text1, truncation=True, return_tensors=\"pt\")[\"input_ids\"]\n",
        "inp2 = tokenizer(text2, truncation=True, return_tensors=\"pt\")[\"input_ids\"]\n",
        "inp3 = tokenizer(text3, truncation=True, return_tensors=\"pt\")[\"input_ids\"]"
      ]
    },
    {
      "cell_type": "code",
      "execution_count": null,
      "id": "89431863-88ed-420e-8d84-027339d047ca",
      "metadata": {
        "id": "89431863-88ed-420e-8d84-027339d047ca",
        "outputId": "a036cb76-6b01-425f-a75c-d1393b0b8b94"
      },
      "outputs": [
        {
          "data": {
            "text/plain": [
              "['i', 'learn', 'python', 'programming']"
            ]
          },
          "execution_count": 25,
          "metadata": {},
          "output_type": "execute_result"
        }
      ],
      "source": [
        "tokenizer.tokenize(text1)"
      ]
    },
    {
      "cell_type": "code",
      "execution_count": 19,
      "id": "3171a9b3-bf9f-40df-bc68-21b31562efcd",
      "metadata": {
        "colab": {
          "base_uri": "https://localhost:8080/"
        },
        "id": "3171a9b3-bf9f-40df-bc68-21b31562efcd",
        "outputId": "825b577d-a43d-4891-ceb2-6126158f7e2c"
      },
      "outputs": [
        {
          "output_type": "execute_result",
          "data": {
            "text/plain": [
              "tensor([[  101,  1045,  4553, 18750,  4730,   102]])"
            ]
          },
          "metadata": {},
          "execution_count": 19
        }
      ],
      "source": [
        "inp1"
      ]
    },
    {
      "cell_type": "code",
      "execution_count": 20,
      "id": "add4c332-e9e5-4cad-a2d8-8fc0a9579f93",
      "metadata": {
        "colab": {
          "base_uri": "https://localhost:8080/"
        },
        "id": "add4c332-e9e5-4cad-a2d8-8fc0a9579f93",
        "outputId": "c2623e54-c5ae-4df4-adeb-8c3ff4ee6119"
      },
      "outputs": [
        {
          "output_type": "execute_result",
          "data": {
            "text/plain": [
              "tensor([[  101,  1996, 10777,  2003, 19026,  2011, 18750,  7488,   102]])"
            ]
          },
          "metadata": {},
          "execution_count": 20
        }
      ],
      "source": [
        "inp2"
      ]
    },
    {
      "cell_type": "code",
      "execution_count": 22,
      "id": "b5aa33c6-c22f-421e-b073-e73f43302cc6",
      "metadata": {
        "colab": {
          "base_uri": "https://localhost:8080/"
        },
        "id": "b5aa33c6-c22f-421e-b073-e73f43302cc6",
        "outputId": "865e7ddb-7422-443a-df5a-4247c740fda6"
      },
      "outputs": [
        {
          "output_type": "execute_result",
          "data": {
            "text/plain": [
              "tensor([[  101,  1045,  2817, 18750,  4730,   102]])"
            ]
          },
          "metadata": {},
          "execution_count": 22
        }
      ],
      "source": [
        "inp3"
      ]
    },
    {
      "cell_type": "code",
      "execution_count": 23,
      "id": "e80be560-f7ad-4b4b-b337-aecc17534427",
      "metadata": {
        "colab": {
          "base_uri": "https://localhost:8080/"
        },
        "id": "e80be560-f7ad-4b4b-b337-aecc17534427",
        "outputId": "e5b4ae11-6357-4a0d-8e16-f61c38c0ce50"
      },
      "outputs": [
        {
          "output_type": "execute_result",
          "data": {
            "text/plain": [
              "DistilBertForSequenceClassification(\n",
              "  (distilbert): DistilBertModel(\n",
              "    (embeddings): Embeddings(\n",
              "      (word_embeddings): Embedding(30522, 768, padding_idx=0)\n",
              "      (position_embeddings): Embedding(512, 768)\n",
              "      (LayerNorm): LayerNorm((768,), eps=1e-12, elementwise_affine=True)\n",
              "      (dropout): Dropout(p=0.1, inplace=False)\n",
              "    )\n",
              "    (transformer): Transformer(\n",
              "      (layer): ModuleList(\n",
              "        (0-5): 6 x TransformerBlock(\n",
              "          (attention): MultiHeadSelfAttention(\n",
              "            (dropout): Dropout(p=0.1, inplace=False)\n",
              "            (q_lin): Linear(in_features=768, out_features=768, bias=True)\n",
              "            (k_lin): Linear(in_features=768, out_features=768, bias=True)\n",
              "            (v_lin): Linear(in_features=768, out_features=768, bias=True)\n",
              "            (out_lin): Linear(in_features=768, out_features=768, bias=True)\n",
              "          )\n",
              "          (sa_layer_norm): LayerNorm((768,), eps=1e-12, elementwise_affine=True)\n",
              "          (ffn): FFN(\n",
              "            (dropout): Dropout(p=0.1, inplace=False)\n",
              "            (lin1): Linear(in_features=768, out_features=3072, bias=True)\n",
              "            (lin2): Linear(in_features=3072, out_features=768, bias=True)\n",
              "            (activation): GELUActivation()\n",
              "          )\n",
              "          (output_layer_norm): LayerNorm((768,), eps=1e-12, elementwise_affine=True)\n",
              "        )\n",
              "      )\n",
              "    )\n",
              "  )\n",
              "  (pre_classifier): Linear(in_features=768, out_features=768, bias=True)\n",
              "  (classifier): Linear(in_features=768, out_features=2, bias=True)\n",
              "  (dropout): Dropout(p=0.2, inplace=False)\n",
              ")"
            ]
          },
          "metadata": {},
          "execution_count": 23
        }
      ],
      "source": [
        "model"
      ]
    },
    {
      "cell_type": "code",
      "execution_count": 24,
      "id": "d360312d-4324-406b-8129-fc47d7952905",
      "metadata": {
        "colab": {
          "base_uri": "https://localhost:8080/"
        },
        "id": "d360312d-4324-406b-8129-fc47d7952905",
        "outputId": "1526fff7-3c0c-4d87-a173-5cc8c62ddf6f"
      },
      "outputs": [
        {
          "output_type": "execute_result",
          "data": {
            "text/plain": [
              "MultiHeadSelfAttention(\n",
              "  (dropout): Dropout(p=0.1, inplace=False)\n",
              "  (q_lin): Linear(in_features=768, out_features=768, bias=True)\n",
              "  (k_lin): Linear(in_features=768, out_features=768, bias=True)\n",
              "  (v_lin): Linear(in_features=768, out_features=768, bias=True)\n",
              "  (out_lin): Linear(in_features=768, out_features=768, bias=True)\n",
              ")"
            ]
          },
          "metadata": {},
          "execution_count": 24
        }
      ],
      "source": [
        "model.distilbert.transformer.layer[0].attention"
      ]
    },
    {
      "cell_type": "code",
      "execution_count": 25,
      "id": "1683c708-324a-42ed-b58e-acfca34e2acf",
      "metadata": {
        "id": "1683c708-324a-42ed-b58e-acfca34e2acf"
      },
      "outputs": [],
      "source": [
        "e1 = model.distilbert.embeddings(inp1)\n",
        "e2 = model.distilbert.embeddings(inp2)\n",
        "e3 = model.distilbert.embeddings(inp3)"
      ]
    },
    {
      "cell_type": "code",
      "execution_count": 26,
      "id": "d87561f9-6436-4ae0-bdde-5a4d55c9aa8b",
      "metadata": {
        "colab": {
          "base_uri": "https://localhost:8080/"
        },
        "id": "d87561f9-6436-4ae0-bdde-5a4d55c9aa8b",
        "outputId": "fe9725f0-8873-4dc7-ba73-de09a18655ad"
      },
      "outputs": [
        {
          "output_type": "execute_result",
          "data": {
            "text/plain": [
              "tensor([ 0.4765,  0.0791, -0.5994,  0.1990, -1.1323,  1.2059, -0.6152,  0.1050,\n",
              "        -0.6633,  0.7164,  0.8947,  0.2140, -0.9706, -0.0527, -0.5499, -1.1334,\n",
              "         0.3393,  0.1940, -0.4095, -0.6861], grad_fn=<SliceBackward0>)"
            ]
          },
          "metadata": {},
          "execution_count": 26
        }
      ],
      "source": [
        "e1[0,3][:20]"
      ]
    },
    {
      "cell_type": "code",
      "execution_count": 27,
      "id": "ff1571dd-893c-4316-b569-d34fd23ceeed",
      "metadata": {
        "colab": {
          "base_uri": "https://localhost:8080/"
        },
        "id": "ff1571dd-893c-4316-b569-d34fd23ceeed",
        "outputId": "ccf8824d-189a-470f-be0b-710c04951c77"
      },
      "outputs": [
        {
          "output_type": "execute_result",
          "data": {
            "text/plain": [
              "tensor([ 0.6138, -0.0411, -0.5975,  0.3634, -1.0803,  1.2622, -0.8302,  0.3590,\n",
              "        -0.6277,  0.6380,  0.3281,  0.4025, -1.0925,  0.0264, -0.8139, -1.0278,\n",
              "         0.8216,  0.2391, -0.3296, -0.6926], grad_fn=<SliceBackward0>)"
            ]
          },
          "metadata": {},
          "execution_count": 27
        }
      ],
      "source": [
        "e2[0,6][:20]"
      ]
    },
    {
      "cell_type": "code",
      "execution_count": 28,
      "id": "6d2d439b-30fc-4ca4-ac50-5f4daa09ac61",
      "metadata": {
        "id": "6d2d439b-30fc-4ca4-ac50-5f4daa09ac61"
      },
      "outputs": [],
      "source": [
        "out1 = model(inp1, output_hidden_states=True, output_attentions=False, return_dict=True)\n",
        "out2 = model(inp2, output_hidden_states=True, output_attentions=False, return_dict=True)\n",
        "out3 = model(inp3, output_hidden_states=True, output_attentions=False, return_dict=True)"
      ]
    },
    {
      "cell_type": "code",
      "execution_count": 29,
      "id": "b0520688-09d8-4d9b-a021-c45b0ee46aca",
      "metadata": {
        "colab": {
          "base_uri": "https://localhost:8080/"
        },
        "id": "b0520688-09d8-4d9b-a021-c45b0ee46aca",
        "outputId": "1e51fe88-ece1-48c5-f9d9-7e1fddbbe5b6"
      },
      "outputs": [
        {
          "output_type": "execute_result",
          "data": {
            "text/plain": [
              "tensor(0.4203, grad_fn=<SumBackward1>)"
            ]
          },
          "metadata": {},
          "execution_count": 29
        }
      ],
      "source": [
        "layer = 6\n",
        "cosi = torch.nn.CosineSimilarity(dim=0)\n",
        "output = cosi(out1.hidden_states[layer][0][3], out2.hidden_states[layer][0][6])\n",
        "output"
      ]
    },
    {
      "cell_type": "code",
      "execution_count": 30,
      "id": "16b6553d-c784-4575-a076-5bbce2620582",
      "metadata": {
        "id": "16b6553d-c784-4575-a076-5bbce2620582"
      },
      "outputs": [],
      "source": [
        "we1 = model.distilbert.embeddings.word_embeddings(inp1)\n",
        "we2 = model.distilbert.embeddings.word_embeddings(inp2)\n",
        "we3 = model.distilbert.embeddings.word_embeddings(inp3)"
      ]
    },
    {
      "cell_type": "code",
      "execution_count": 31,
      "id": "c3f7d928-a0f8-4c12-a82c-b7c00fa8d713",
      "metadata": {
        "colab": {
          "base_uri": "https://localhost:8080/"
        },
        "id": "c3f7d928-a0f8-4c12-a82c-b7c00fa8d713",
        "outputId": "69afefa8-393b-40cb-91cd-88295efad0ad"
      },
      "outputs": [
        {
          "output_type": "execute_result",
          "data": {
            "text/plain": [
              "tensor(0.0313, grad_fn=<SumBackward1>)"
            ]
          },
          "metadata": {},
          "execution_count": 31
        }
      ],
      "source": [
        "#embedding layer = 0\n",
        "cosi = torch.nn.CosineSimilarity(dim=0)\n",
        "output = cosi(e1[0][2], e2[0][2])\n",
        "output"
      ]
    },
    {
      "cell_type": "code",
      "execution_count": null,
      "id": "4f8f125e-1c53-425d-80f6-092f273fa845",
      "metadata": {
        "id": "4f8f125e-1c53-425d-80f6-092f273fa845"
      },
      "outputs": [],
      "source": []
    },
    {
      "cell_type": "code",
      "execution_count": 32,
      "id": "a83b216e-b720-4d5d-917d-10a69428742e",
      "metadata": {
        "id": "a83b216e-b720-4d5d-917d-10a69428742e"
      },
      "outputs": [],
      "source": [
        "t1 = \"I like python programming\"\n",
        "tt1 = tokenizer(t1, return_tensors='pt')['input_ids']"
      ]
    },
    {
      "cell_type": "code",
      "execution_count": 33,
      "id": "96b25672-b528-4b81-815b-d86db8b5c586",
      "metadata": {
        "colab": {
          "base_uri": "https://localhost:8080/"
        },
        "id": "96b25672-b528-4b81-815b-d86db8b5c586",
        "outputId": "81795738-a4a1-43b0-a4b7-1e5ec7242dce"
      },
      "outputs": [
        {
          "output_type": "execute_result",
          "data": {
            "text/plain": [
              "tensor([[  101,  1045,  2066, 18750,  4730,   102]])"
            ]
          },
          "metadata": {},
          "execution_count": 33
        }
      ],
      "source": [
        "tt1"
      ]
    },
    {
      "cell_type": "code",
      "execution_count": 34,
      "id": "76837df0-8cc9-470d-a09f-abe4f1d2ed13",
      "metadata": {
        "id": "76837df0-8cc9-470d-a09f-abe4f1d2ed13"
      },
      "outputs": [],
      "source": [
        "t2 = \"python bites cats\"\n",
        "tt1 = tokenizer(t1, return_tensors='pt')['input_ids']"
      ]
    },
    {
      "cell_type": "code",
      "execution_count": 35,
      "id": "e0842682-fc53-4216-804f-af2f4b294410",
      "metadata": {
        "colab": {
          "base_uri": "https://localhost:8080/"
        },
        "id": "e0842682-fc53-4216-804f-af2f4b294410",
        "outputId": "ad4ef7cc-096e-472b-e346-7371b2631ad0"
      },
      "outputs": [
        {
          "output_type": "execute_result",
          "data": {
            "text/plain": [
              "DistilBertForSequenceClassification(\n",
              "  (distilbert): DistilBertModel(\n",
              "    (embeddings): Embeddings(\n",
              "      (word_embeddings): Embedding(30522, 768, padding_idx=0)\n",
              "      (position_embeddings): Embedding(512, 768)\n",
              "      (LayerNorm): LayerNorm((768,), eps=1e-12, elementwise_affine=True)\n",
              "      (dropout): Dropout(p=0.1, inplace=False)\n",
              "    )\n",
              "    (transformer): Transformer(\n",
              "      (layer): ModuleList(\n",
              "        (0-5): 6 x TransformerBlock(\n",
              "          (attention): MultiHeadSelfAttention(\n",
              "            (dropout): Dropout(p=0.1, inplace=False)\n",
              "            (q_lin): Linear(in_features=768, out_features=768, bias=True)\n",
              "            (k_lin): Linear(in_features=768, out_features=768, bias=True)\n",
              "            (v_lin): Linear(in_features=768, out_features=768, bias=True)\n",
              "            (out_lin): Linear(in_features=768, out_features=768, bias=True)\n",
              "          )\n",
              "          (sa_layer_norm): LayerNorm((768,), eps=1e-12, elementwise_affine=True)\n",
              "          (ffn): FFN(\n",
              "            (dropout): Dropout(p=0.1, inplace=False)\n",
              "            (lin1): Linear(in_features=768, out_features=3072, bias=True)\n",
              "            (lin2): Linear(in_features=3072, out_features=768, bias=True)\n",
              "            (activation): GELUActivation()\n",
              "          )\n",
              "          (output_layer_norm): LayerNorm((768,), eps=1e-12, elementwise_affine=True)\n",
              "        )\n",
              "      )\n",
              "    )\n",
              "  )\n",
              "  (pre_classifier): Linear(in_features=768, out_features=768, bias=True)\n",
              "  (classifier): Linear(in_features=768, out_features=2, bias=True)\n",
              "  (dropout): Dropout(p=0.2, inplace=False)\n",
              ")"
            ]
          },
          "metadata": {},
          "execution_count": 35
        }
      ],
      "source": [
        "model"
      ]
    },
    {
      "cell_type": "code",
      "execution_count": 36,
      "id": "6c8bd4bf-4456-4f84-b686-1dd85cbb1b2f",
      "metadata": {
        "colab": {
          "base_uri": "https://localhost:8080/"
        },
        "id": "6c8bd4bf-4456-4f84-b686-1dd85cbb1b2f",
        "outputId": "50fb33a5-4192-49c0-ae90-36a60d557c0e"
      },
      "outputs": [
        {
          "output_type": "execute_result",
          "data": {
            "text/plain": [
              "Embeddings(\n",
              "  (word_embeddings): Embedding(30522, 768, padding_idx=0)\n",
              "  (position_embeddings): Embedding(512, 768)\n",
              "  (LayerNorm): LayerNorm((768,), eps=1e-12, elementwise_affine=True)\n",
              "  (dropout): Dropout(p=0.1, inplace=False)\n",
              ")"
            ]
          },
          "metadata": {},
          "execution_count": 36
        }
      ],
      "source": [
        "model.distilbert.embeddings"
      ]
    },
    {
      "cell_type": "code",
      "execution_count": 37,
      "id": "00a95129-d7b2-43a3-ae12-6651ba132ce6",
      "metadata": {
        "id": "00a95129-d7b2-43a3-ae12-6651ba132ce6"
      },
      "outputs": [],
      "source": [
        "text1 = \"I cook dinner everyday\"\n",
        "text2 = \"Mr cook went to sydney\"\n",
        "#text1 = \"I learn python programming\"\n",
        "#text2 = \"the elephant is bitten by python snake\"\n",
        "\n",
        "inp1 = tokenizer(text1, truncation=True, return_tensors=\"pt\")[\"input_ids\"]\n",
        "inp2 = tokenizer(text2, truncation=True, return_tensors=\"pt\")[\"input_ids\"]\n"
      ]
    },
    {
      "cell_type": "code",
      "execution_count": 38,
      "id": "e1be49ba-6cbf-4f1e-a84c-c2a989e635f5",
      "metadata": {
        "colab": {
          "base_uri": "https://localhost:8080/"
        },
        "id": "e1be49ba-6cbf-4f1e-a84c-c2a989e635f5",
        "outputId": "dcfb975a-e672-496b-a2c6-9d7253f4b19a"
      },
      "outputs": [
        {
          "output_type": "execute_result",
          "data": {
            "text/plain": [
              "tensor([[  101,  1045,  5660,  4596, 10126,   102]])"
            ]
          },
          "metadata": {},
          "execution_count": 38
        }
      ],
      "source": [
        "inp1"
      ]
    },
    {
      "cell_type": "code",
      "execution_count": 39,
      "id": "c26b657a-39fb-43f8-be9b-a3a43a05bc26",
      "metadata": {
        "colab": {
          "base_uri": "https://localhost:8080/"
        },
        "id": "c26b657a-39fb-43f8-be9b-a3a43a05bc26",
        "outputId": "a2021636-c303-49b8-b66b-e7e88d8f30ab"
      },
      "outputs": [
        {
          "output_type": "execute_result",
          "data": {
            "text/plain": [
              "tensor([[ 101, 2720, 5660, 2253, 2000, 3994,  102]])"
            ]
          },
          "metadata": {},
          "execution_count": 39
        }
      ],
      "source": [
        "inp2"
      ]
    },
    {
      "cell_type": "code",
      "execution_count": 40,
      "id": "36237ea0-a666-4a70-a38e-2b5e91e5b1a8",
      "metadata": {
        "id": "36237ea0-a666-4a70-a38e-2b5e91e5b1a8"
      },
      "outputs": [],
      "source": [
        "m1 = model(inp1, output_hidden_states=True, return_dict=True)\n",
        "m2 = model(inp2, output_hidden_states=True, return_dict=True)"
      ]
    },
    {
      "cell_type": "code",
      "execution_count": 41,
      "id": "ca1dc9f9-a756-4ad5-8f79-4e07c6d8ee72",
      "metadata": {
        "colab": {
          "base_uri": "https://localhost:8080/"
        },
        "id": "ca1dc9f9-a756-4ad5-8f79-4e07c6d8ee72",
        "outputId": "11067b0d-b2a2-4005-c16a-3d6d5d034616"
      },
      "outputs": [
        {
          "output_type": "execute_result",
          "data": {
            "text/plain": [
              "tensor([-7.9772e-04, -1.3976e-01, -1.4937e-01, -3.5096e-01,  7.5117e-01,\n",
              "        -7.1433e-01,  8.2337e-01, -7.5590e-01,  3.0664e-01, -1.1051e+00,\n",
              "         4.1999e-01, -2.4543e-01,  3.9497e-01, -7.2123e-01,  5.4743e-01,\n",
              "        -4.5326e-01,  5.1976e-02,  4.8805e-01, -1.1667e+00, -1.4705e-01],\n",
              "       grad_fn=<SliceBackward0>)"
            ]
          },
          "metadata": {},
          "execution_count": 41
        }
      ],
      "source": [
        "m1.hidden_states[0][0][2][:20]"
      ]
    },
    {
      "cell_type": "code",
      "execution_count": 42,
      "id": "0b4d01d8-40b6-4753-b14b-e83abc8cc72c",
      "metadata": {
        "colab": {
          "base_uri": "https://localhost:8080/"
        },
        "id": "0b4d01d8-40b6-4753-b14b-e83abc8cc72c",
        "outputId": "b76ccea9-b39d-4a2c-cd8a-f2e1ea00eb4b"
      },
      "outputs": [
        {
          "output_type": "execute_result",
          "data": {
            "text/plain": [
              "tensor([-7.9772e-04, -1.3976e-01, -1.4937e-01, -3.5096e-01,  7.5117e-01,\n",
              "        -7.1433e-01,  8.2337e-01, -7.5590e-01,  3.0664e-01, -1.1051e+00,\n",
              "         4.1999e-01, -2.4543e-01,  3.9497e-01, -7.2123e-01,  5.4743e-01,\n",
              "        -4.5326e-01,  5.1976e-02,  4.8805e-01, -1.1667e+00, -1.4705e-01],\n",
              "       grad_fn=<SliceBackward0>)"
            ]
          },
          "metadata": {},
          "execution_count": 42
        }
      ],
      "source": [
        "m2.hidden_states[0][0][2][:20]"
      ]
    },
    {
      "cell_type": "code",
      "source": [
        "m1.hidden_states[layer][0][2]"
      ],
      "metadata": {
        "colab": {
          "base_uri": "https://localhost:8080/"
        },
        "id": "uJqnXkmcqfTI",
        "outputId": "c6f551e5-4bb4-4660-f7f6-57244e9a56f9"
      },
      "id": "uJqnXkmcqfTI",
      "execution_count": 54,
      "outputs": [
        {
          "output_type": "execute_result",
          "data": {
            "text/plain": [
              "tensor([ 6.0160e-01, -6.1138e-02, -4.8193e-02, -2.9084e-01,  1.1344e+00,\n",
              "        -7.3096e-01,  3.9375e-01, -8.7785e-01,  2.5876e-01, -8.6359e-01,\n",
              "         1.7759e-01,  8.2663e-02,  5.7305e-01, -6.6176e-01,  6.1738e-01,\n",
              "        -5.1738e-01,  7.8323e-02, -1.4626e-01, -1.5110e+00, -5.3880e-01,\n",
              "         4.5177e-01, -1.8879e-01,  1.5207e-01,  3.7827e-02,  4.7544e-01,\n",
              "         6.9694e-01,  9.7524e-02,  5.7166e-01,  2.3009e-01, -8.7522e-01,\n",
              "        -8.8629e-01,  5.8747e-01, -9.4186e-01, -3.0890e-01, -8.1571e-02,\n",
              "        -3.5211e-01, -6.9077e-01,  1.1259e+00,  3.5043e-01,  2.5840e-01,\n",
              "         7.9755e-01, -8.1070e-01,  1.7915e+00,  6.4750e-03,  1.0273e+00,\n",
              "         1.1934e+00,  8.3038e-02,  1.6825e+00, -6.4924e-02,  2.9854e-01,\n",
              "        -1.3540e-01, -6.4556e-02,  3.4877e-01,  4.1157e-01, -4.6068e-01,\n",
              "        -3.3634e-01, -7.9444e-01, -6.8038e-01, -1.4153e-01, -1.5497e+00,\n",
              "        -1.9911e-01, -2.7106e-01,  5.6309e-01, -2.6540e-01,  3.0148e-02,\n",
              "        -2.5668e-01, -1.1686e-01, -1.9066e-01, -1.9633e-01, -4.9640e-01,\n",
              "         1.4067e+00, -1.9226e-01,  1.8926e-01, -9.7264e-02, -3.2128e-01,\n",
              "        -2.0409e-01,  7.0610e-01, -5.4497e-01,  8.0392e-01,  6.5324e-01,\n",
              "         1.1102e+00, -7.4664e-01, -1.3255e+00, -2.0316e-01,  6.1867e-01,\n",
              "        -6.3652e-01, -2.8293e-01, -4.4716e-01,  3.5447e-02,  2.7812e-01,\n",
              "        -4.7352e-01, -8.2538e-01, -2.7948e-01,  6.7806e-01, -1.0450e-01,\n",
              "        -4.4144e-01, -4.1865e-01,  9.6288e-01,  1.2732e-01, -1.5783e+00,\n",
              "         4.8966e-01,  1.8794e+00,  7.4773e-01, -2.6398e-01, -5.1231e-01,\n",
              "         4.3728e-01, -1.4801e-01, -1.6416e+00,  6.6209e-01,  6.9003e-01,\n",
              "        -5.3683e-02, -5.7022e-01, -4.0956e-01, -1.3055e+00, -5.1925e-01,\n",
              "         7.1161e-01,  5.9904e-01, -1.3698e+00, -5.6244e-02, -9.5020e-01,\n",
              "        -6.6996e-01,  2.3494e-01,  5.0677e-02,  8.8777e-01, -1.5638e-01,\n",
              "         1.7041e-01, -2.6190e-01,  1.0186e+00, -2.3395e-01,  1.5442e-01,\n",
              "        -7.5126e-02,  1.4817e-01,  1.5890e+00, -1.8151e-01,  1.1745e+00,\n",
              "        -7.1943e-01, -5.4611e-01, -6.5651e-01, -1.4842e-01, -5.1408e-01,\n",
              "        -3.0053e-01,  1.5088e+00, -7.8099e-01,  1.4212e+00, -4.9006e-02,\n",
              "         1.8367e-01, -6.2150e-01, -4.6822e-01,  1.9094e-01, -8.7160e-01,\n",
              "        -1.6047e-02, -3.2741e-01,  1.9823e-01, -6.5369e-01,  1.2451e-01,\n",
              "        -6.3105e-01,  5.6209e-01, -6.2576e-01,  8.5380e-03,  1.4566e-01,\n",
              "        -1.4536e+00, -6.2410e-02, -4.0031e-01, -8.7563e-02,  8.5660e-01,\n",
              "        -4.9556e-01, -4.9477e-01, -1.5816e+00, -3.4847e-01,  6.6723e-01,\n",
              "         4.3514e-01, -8.3448e-01,  8.2566e-02,  7.4021e-01,  4.2107e-01,\n",
              "         5.9156e-01,  6.3729e-01, -9.0589e-01,  6.5485e-01, -6.9098e-01,\n",
              "        -4.7402e-01,  2.1308e-01, -5.5437e-01, -1.6713e+00,  2.3963e-01,\n",
              "        -1.7121e-01,  3.0264e-01, -4.9066e-01, -5.4690e-01,  2.2266e-01,\n",
              "        -7.4186e-01,  1.1441e-01,  1.3720e-01,  6.0332e-01,  1.9459e+00,\n",
              "         3.7484e-02,  4.6454e-01,  1.2853e-01, -3.6358e-01,  5.4877e-01,\n",
              "         1.4489e+00, -8.9731e-01, -1.1424e-01,  5.3205e-01, -1.3303e+00,\n",
              "        -9.0437e-02,  1.0551e+00, -1.1630e+00,  2.2226e-01,  5.1087e-01,\n",
              "        -5.8678e-01, -2.0554e-01,  6.1409e-01,  1.2334e+00, -1.1796e+00,\n",
              "        -6.3030e-01,  3.5243e-01,  5.3045e-01, -4.9566e-01,  2.8006e-02,\n",
              "        -2.1012e-01,  1.4051e+00, -3.6903e-01,  4.9417e-01, -1.5228e+00,\n",
              "        -7.4270e-01, -5.9008e-01, -2.0292e-01, -5.2839e-01,  4.0311e-01,\n",
              "        -4.9316e-01, -6.9474e-01,  2.3788e-01, -1.7940e-01, -1.8575e-01,\n",
              "         3.4605e-01,  1.0070e-01, -1.0893e+00,  1.9134e-01,  2.3332e-01,\n",
              "         3.8953e-01, -7.5327e-01,  1.6390e-01,  5.0502e-01, -9.0880e-01,\n",
              "         7.5935e-02, -1.0647e-01,  1.0217e-01,  4.9273e-01, -5.7998e-01,\n",
              "         4.6717e-01, -2.6822e-01,  4.6083e-01, -1.3127e-01, -1.9745e+00,\n",
              "         1.1962e-01, -5.6153e-01,  1.1138e+00,  7.3964e-01,  3.5661e-01,\n",
              "        -1.1340e+00, -1.5735e-02,  1.6882e+00,  1.4685e+00, -1.7925e-01,\n",
              "         9.3475e-01, -6.5060e-01,  1.7079e+00,  3.0689e-03, -9.1579e-01,\n",
              "         1.4933e+00, -8.3369e-01, -4.4811e-02, -7.5589e-01, -2.8681e-01,\n",
              "         2.3470e-01,  2.7592e-01, -2.0160e-02, -5.1325e-01, -5.5978e-01,\n",
              "         7.3160e-01,  2.4956e-01,  1.3086e+00, -1.3831e+00, -3.0120e-01,\n",
              "        -2.7785e-01, -6.3642e-01,  1.1480e-01, -1.1786e+00, -3.9719e-01,\n",
              "        -7.6090e-01,  8.4160e-01, -1.3529e+00, -7.6277e-01, -5.6833e-01,\n",
              "        -2.8172e-01,  3.2214e-01, -3.2958e-01,  1.5913e-01,  2.0360e-01,\n",
              "         6.5334e-01, -2.8728e-02,  1.3071e+00,  9.3436e-01,  6.7918e-01,\n",
              "         8.0931e-01, -1.0975e-01,  7.6999e-01, -3.8710e+00, -9.8417e-01,\n",
              "        -7.9136e-01,  8.1448e-02, -4.1183e-02, -4.1552e-01, -4.1036e-01,\n",
              "        -1.1013e-01, -2.0641e-01,  9.5692e-01, -6.1653e-01,  1.3434e-01,\n",
              "         1.6780e+00,  1.0790e+00,  2.5349e-01,  1.4669e+00,  3.8260e-01,\n",
              "         7.3658e-01, -1.0805e-01, -4.6052e-01,  1.3554e+00, -7.0591e-02,\n",
              "        -5.8722e-01, -2.4723e-01, -2.7567e-01, -2.0974e-01,  1.1586e+00,\n",
              "         2.4955e-01, -5.3571e-01,  3.3816e-01,  1.3525e+00, -1.9966e-01,\n",
              "        -1.2273e-02,  2.2479e-01,  1.0027e+00,  4.5555e-01, -1.3756e-02,\n",
              "         5.3207e-01, -4.3387e-01, -6.7341e-01,  4.1722e-01,  3.3356e-01,\n",
              "         1.3543e-02, -1.7821e+00,  1.2744e+00, -1.4981e+00,  1.6158e-01,\n",
              "         7.8855e-02,  3.9497e-01,  1.0344e+00, -6.0639e-01, -9.7233e-02,\n",
              "         5.8998e-01, -2.3934e-01,  6.4921e-01, -5.6622e-01,  8.5447e-01,\n",
              "        -1.2737e+00, -5.2559e-01,  1.8501e-01, -1.0899e+00, -3.3338e-01,\n",
              "        -2.0271e-01,  8.6826e-02, -7.1644e-01,  5.0882e-01, -1.8839e-01,\n",
              "        -1.8776e+00, -6.0935e-01,  1.7017e-01,  7.0467e-01, -1.2177e+00,\n",
              "        -5.3741e-01, -4.9902e-01,  3.7950e-01, -6.8917e-01,  2.4086e-01,\n",
              "         7.0033e-01,  5.3619e-01,  8.7466e-02, -9.1439e-02,  9.5784e-01,\n",
              "         2.9141e-02,  1.7744e-01, -6.5249e-02, -7.5118e-01, -2.0135e+00,\n",
              "        -2.8610e-02,  5.8972e-01, -6.7028e-01, -1.7496e-02,  7.1293e-01,\n",
              "         6.8613e-01,  2.9816e-01, -2.2623e-01,  1.7172e-01, -7.6172e-01,\n",
              "         1.7119e-01,  1.3206e-01,  5.1735e-01, -6.0891e-01, -1.8251e-01,\n",
              "        -3.7501e-01, -1.9392e-01,  2.1989e+00, -1.7124e+00,  3.3486e-01,\n",
              "        -2.5703e-01, -3.0817e-01, -7.2130e-01, -3.2471e-01, -2.9749e-01,\n",
              "        -1.5579e+00, -3.6056e-01,  6.2023e-01, -1.1633e+00, -7.0507e-01,\n",
              "        -1.1738e+00, -7.4468e-01,  2.0911e-01,  5.7494e-01, -7.3713e-01,\n",
              "         5.2561e-01,  1.2258e+00,  1.9310e-01, -1.1408e+00, -1.4352e-01,\n",
              "        -4.5447e-02,  1.2843e+00,  6.3758e-01, -5.6269e-01, -1.5250e+00,\n",
              "         8.3434e-01, -8.9995e-02,  5.9264e-01,  3.9311e-01,  1.3691e+00,\n",
              "        -5.9522e-01, -4.5145e-01, -2.5304e-01, -9.8816e-01, -1.6027e-01,\n",
              "        -1.3978e+00, -3.8833e-01, -1.4909e+00, -3.5470e-01, -4.1607e-01,\n",
              "         4.4911e-01, -4.6740e-01,  7.0980e-01, -9.5512e-01, -2.2631e-01,\n",
              "         6.8728e-02,  5.6616e-01, -9.6433e-01, -3.8254e-01,  1.4584e+00,\n",
              "         1.4721e+00,  1.0848e+00,  5.8614e-01, -6.7195e-01, -3.6352e-01,\n",
              "         1.1926e-01, -6.9807e-01, -1.6830e-01, -8.6509e-01, -7.7206e-01,\n",
              "        -3.6331e-01,  8.2442e-01,  1.0137e-01, -1.4383e-01, -6.6846e-01,\n",
              "         7.2154e-01,  1.6576e+00, -1.6443e-01, -1.7493e+00, -6.0042e-01,\n",
              "        -5.8922e-01, -3.8823e-01,  1.2202e+00,  2.2388e-01,  8.8223e-01,\n",
              "         7.5966e-01, -7.8217e-01, -6.1129e-01, -1.3319e+00,  1.9255e-01,\n",
              "         4.8471e-01, -1.6139e+00,  1.4311e+00,  8.0128e-01, -1.1332e-01,\n",
              "        -2.9910e-01,  1.5496e-02,  2.2827e-01, -5.3857e-01,  4.4147e-01,\n",
              "         2.5059e-01, -8.9422e-01, -5.1973e-01,  3.4489e-01, -1.1279e+00,\n",
              "         3.0162e-01,  3.6581e-01,  8.1396e-01, -3.3120e-02,  5.6006e-01,\n",
              "         3.8579e-01,  6.9022e-03,  1.2124e-02, -1.1421e+00, -8.1459e-01,\n",
              "        -8.5243e-01, -1.1773e+00, -9.7055e-01,  3.6809e-01, -8.7297e-01,\n",
              "         1.0321e+00, -7.2492e-01, -4.2505e-01, -8.5092e-01,  1.2312e-01,\n",
              "        -7.0397e-01,  5.3002e-01, -3.2692e-02, -2.1594e+00, -1.7234e+00,\n",
              "         1.4863e-01, -5.1320e-01,  5.7215e-01, -7.1387e-02,  1.1568e+00,\n",
              "        -2.8202e-01, -4.8579e-01,  8.3657e-02,  8.6732e-01,  1.1324e+00,\n",
              "        -8.3774e-01, -1.2073e-01, -6.5181e-01, -6.0235e-01,  8.8492e-03,\n",
              "         1.2345e-01, -4.7229e-03, -5.8836e-01,  5.7146e-01,  6.8036e-01,\n",
              "         4.9967e-01, -1.9206e-01, -6.5596e-01,  1.2365e+00, -9.7232e-01,\n",
              "         3.7362e-01,  8.1470e-01,  2.3626e-01,  9.2014e-01,  6.9663e-01,\n",
              "         4.7885e-01, -1.0167e+00, -1.6253e+00, -1.4962e-01,  1.3698e+00,\n",
              "         1.2091e+00, -3.0711e-01, -4.8009e-01,  3.7233e-01,  5.4014e-01,\n",
              "        -2.8864e-02, -1.0820e+00, -8.9790e-01,  1.7459e+00, -2.3754e-01,\n",
              "        -7.5930e-01,  6.9113e-02,  9.3309e-01,  3.8505e-02,  3.2504e-01,\n",
              "         5.8425e-02,  8.1586e-01, -4.3286e-01,  2.9522e-01,  3.3665e-01,\n",
              "        -5.5735e-01,  3.0991e-01,  8.4545e-01, -5.4097e-02, -3.1842e-01,\n",
              "         4.1996e-01,  8.9486e-01,  6.5908e-02,  3.2038e-01,  8.6562e-01,\n",
              "         4.4452e-01, -1.4242e+00, -6.6078e-01,  1.5887e-01,  6.3436e-01,\n",
              "         7.3198e-02, -1.6261e-01,  1.5101e-01, -3.5906e-01, -6.1020e-01,\n",
              "        -6.5439e-01, -1.2810e-01, -5.4796e-01, -3.2715e-01, -1.4149e-01,\n",
              "        -7.9361e-02,  1.1660e-01,  8.8201e-02,  5.0680e-01,  1.4883e-01,\n",
              "         3.2356e-02, -8.2196e-01,  3.0226e-01,  5.0192e-01,  5.1178e-01,\n",
              "        -5.9607e-01, -4.8800e-01, -2.2643e-01, -4.6277e-01,  2.1845e-01,\n",
              "         4.7336e-01,  2.1882e-01,  3.5824e-01,  4.4114e-01, -8.9288e-02,\n",
              "        -1.2797e-01,  3.5469e-01, -5.4539e-01, -2.2579e-01,  2.8180e-01,\n",
              "        -7.2883e-01, -1.1818e-01, -4.8544e-01,  2.4995e-01, -6.4935e-01,\n",
              "        -3.0520e-01, -4.4329e-01,  6.4469e-01,  8.4220e-01, -8.5458e-01,\n",
              "         6.8987e-01, -2.9450e-02, -4.3491e-02, -1.7715e-01, -4.1564e-01,\n",
              "         1.0518e+00,  8.0705e-01, -1.7650e-01, -3.2546e-01, -1.0686e+00,\n",
              "         9.6591e-01,  1.4843e-01, -6.9472e-01,  1.1227e+00, -4.3036e-01,\n",
              "         6.9564e-02,  6.4899e-01, -1.8846e-01, -1.0115e-01,  6.6456e-01,\n",
              "        -6.1923e-01, -7.9447e-01, -3.4118e-01, -1.4642e+00,  1.3587e+00,\n",
              "        -3.9317e-01,  2.9349e-01,  8.7930e-01, -4.0641e-01, -5.1969e-01,\n",
              "         8.4908e-01, -1.6345e-01,  1.2379e+00, -4.8645e-01, -1.1738e+00,\n",
              "         6.2224e-01,  1.5634e-01, -1.2976e-02,  6.0331e-01, -3.5548e-01,\n",
              "        -8.5317e-01, -1.3376e+00, -2.4931e-01,  2.0488e-02, -7.3391e-01,\n",
              "        -1.9798e-01, -3.1722e-01,  6.3427e-01,  6.5055e-01,  2.6903e-02,\n",
              "        -1.0613e+00,  3.0301e-01, -8.0412e-01,  2.8410e-01, -5.7508e-01,\n",
              "        -1.8607e-01, -5.1292e-02, -7.9049e-01,  3.9182e-01, -3.7027e-01,\n",
              "         4.1181e-01,  4.0553e-01, -2.8040e-01,  8.8824e-03,  9.2720e-01,\n",
              "        -6.0141e-01,  5.0249e-01, -6.4657e-01,  2.6693e-01,  7.4760e-01,\n",
              "         3.4409e-01, -2.1375e-01,  9.8974e-02, -7.4474e-01, -6.3097e-01,\n",
              "        -9.9765e-01, -1.0818e-01,  1.3814e-01, -1.6379e-01, -6.2752e-01,\n",
              "        -6.2210e-01,  5.9573e-01,  2.9927e-01,  7.5894e-01,  1.3561e+00,\n",
              "         5.2851e-01,  5.1945e-01, -1.3746e-01, -2.9134e-02,  7.1582e-01,\n",
              "        -3.4820e-01,  2.0410e-01,  1.2288e+00, -3.2005e-03, -1.9363e-01,\n",
              "        -2.1433e-01,  6.2760e-01,  1.2910e-01, -1.4786e-01,  2.6211e-01,\n",
              "         6.9988e-02,  3.7551e-01,  2.6680e-01,  6.7685e-02, -1.3321e-01,\n",
              "        -1.1591e-01, -6.0843e-03, -5.8064e-01,  1.1160e+00, -4.0226e-02,\n",
              "        -7.0900e-01,  3.4258e-01,  6.2116e-02,  2.0065e-01,  3.5443e-01,\n",
              "         5.9221e-01, -4.5735e-01, -1.0186e-02], grad_fn=<SelectBackward0>)"
            ]
          },
          "metadata": {},
          "execution_count": 54
        }
      ]
    },
    {
      "cell_type": "code",
      "execution_count": 43,
      "id": "cfb4a311-1c6e-4897-bff1-724092097c87",
      "metadata": {
        "colab": {
          "base_uri": "https://localhost:8080/"
        },
        "id": "cfb4a311-1c6e-4897-bff1-724092097c87",
        "outputId": "54cbadbd-a159-4945-90ef-b66cb536d6ff"
      },
      "outputs": [
        {
          "output_type": "execute_result",
          "data": {
            "text/plain": [
              "tensor(0.8369, grad_fn=<SumBackward1>)"
            ]
          },
          "metadata": {},
          "execution_count": 43
        }
      ],
      "source": [
        "layer=1\n",
        "output = cosi(m1.hidden_states[layer][0][2], m2.hidden_states[layer][0][2])\n",
        "output"
      ]
    },
    {
      "cell_type": "code",
      "execution_count": 56,
      "id": "f354546b-05de-4bb0-aca7-cb0c13babd40",
      "metadata": {
        "colab": {
          "base_uri": "https://localhost:8080/"
        },
        "id": "f354546b-05de-4bb0-aca7-cb0c13babd40",
        "outputId": "74260e95-9ab1-4f2e-c2a6-740eeee7d1e8"
      },
      "outputs": [
        {
          "output_type": "execute_result",
          "data": {
            "text/plain": [
              "tensor(0.6863, grad_fn=<SumBackward1>)"
            ]
          },
          "metadata": {},
          "execution_count": 56
        }
      ],
      "source": [
        "layer=6\n",
        "output = cosi(m1.hidden_states[layer][0][2], m2.hidden_states[layer][0][2])\n",
        "output"
      ]
    },
    {
      "cell_type": "code",
      "execution_count": 57,
      "id": "5367d7e2-64c2-4c4a-9078-bfa51c2f960b",
      "metadata": {
        "colab": {
          "base_uri": "https://localhost:8080/"
        },
        "id": "5367d7e2-64c2-4c4a-9078-bfa51c2f960b",
        "outputId": "de202986-9693-4af5-df50-96a3254b3e0a"
      },
      "outputs": [
        {
          "output_type": "execute_result",
          "data": {
            "text/plain": [
              "DistilBertForSequenceClassification(\n",
              "  (distilbert): DistilBertModel(\n",
              "    (embeddings): Embeddings(\n",
              "      (word_embeddings): Embedding(30522, 768, padding_idx=0)\n",
              "      (position_embeddings): Embedding(512, 768)\n",
              "      (LayerNorm): LayerNorm((768,), eps=1e-12, elementwise_affine=True)\n",
              "      (dropout): Dropout(p=0.1, inplace=False)\n",
              "    )\n",
              "    (transformer): Transformer(\n",
              "      (layer): ModuleList(\n",
              "        (0-5): 6 x TransformerBlock(\n",
              "          (attention): MultiHeadSelfAttention(\n",
              "            (dropout): Dropout(p=0.1, inplace=False)\n",
              "            (q_lin): Linear(in_features=768, out_features=768, bias=True)\n",
              "            (k_lin): Linear(in_features=768, out_features=768, bias=True)\n",
              "            (v_lin): Linear(in_features=768, out_features=768, bias=True)\n",
              "            (out_lin): Linear(in_features=768, out_features=768, bias=True)\n",
              "          )\n",
              "          (sa_layer_norm): LayerNorm((768,), eps=1e-12, elementwise_affine=True)\n",
              "          (ffn): FFN(\n",
              "            (dropout): Dropout(p=0.1, inplace=False)\n",
              "            (lin1): Linear(in_features=768, out_features=3072, bias=True)\n",
              "            (lin2): Linear(in_features=3072, out_features=768, bias=True)\n",
              "            (activation): GELUActivation()\n",
              "          )\n",
              "          (output_layer_norm): LayerNorm((768,), eps=1e-12, elementwise_affine=True)\n",
              "        )\n",
              "      )\n",
              "    )\n",
              "  )\n",
              "  (pre_classifier): Linear(in_features=768, out_features=768, bias=True)\n",
              "  (classifier): Linear(in_features=768, out_features=2, bias=True)\n",
              "  (dropout): Dropout(p=0.2, inplace=False)\n",
              ")"
            ]
          },
          "metadata": {},
          "execution_count": 57
        }
      ],
      "source": [
        "model"
      ]
    },
    {
      "cell_type": "code",
      "execution_count": null,
      "id": "35767872-27ba-4c1a-8e41-16c0620caa6a",
      "metadata": {
        "id": "35767872-27ba-4c1a-8e41-16c0620caa6a"
      },
      "outputs": [],
      "source": []
    },
    {
      "cell_type": "code",
      "execution_count": null,
      "id": "9850f128-9622-44dd-ab38-0fc76e4ca1ce",
      "metadata": {
        "id": "9850f128-9622-44dd-ab38-0fc76e4ca1ce"
      },
      "outputs": [],
      "source": []
    }
  ],
  "metadata": {
    "kernelspec": {
      "display_name": "Python 3",
      "name": "python3"
    },
    "language_info": {
      "codemirror_mode": {
        "name": "ipython",
        "version": 3
      },
      "file_extension": ".py",
      "mimetype": "text/x-python",
      "name": "python",
      "nbconvert_exporter": "python",
      "pygments_lexer": "ipython3",
      "version": "3.11.5"
    },
    "colab": {
      "provenance": [],
      "gpuType": "T4",
      "include_colab_link": true
    },
    "accelerator": "GPU",
    "widgets": {
      "application/vnd.jupyter.widget-state+json": {
        "878adbbf7d644729abdf18737019897b": {
          "model_module": "@jupyter-widgets/controls",
          "model_name": "HBoxModel",
          "model_module_version": "1.5.0",
          "state": {
            "_dom_classes": [],
            "_model_module": "@jupyter-widgets/controls",
            "_model_module_version": "1.5.0",
            "_model_name": "HBoxModel",
            "_view_count": null,
            "_view_module": "@jupyter-widgets/controls",
            "_view_module_version": "1.5.0",
            "_view_name": "HBoxView",
            "box_style": "",
            "children": [
              "IPY_MODEL_95bc042d83b747c696f21c9727ae2f91",
              "IPY_MODEL_6eacc98bc95248c9a0feca85bbda0288",
              "IPY_MODEL_76227bd1d076476a9b6ef22c07d26a5c"
            ],
            "layout": "IPY_MODEL_cdea01edef0b45199fcf9f83326bbf44"
          }
        },
        "95bc042d83b747c696f21c9727ae2f91": {
          "model_module": "@jupyter-widgets/controls",
          "model_name": "HTMLModel",
          "model_module_version": "1.5.0",
          "state": {
            "_dom_classes": [],
            "_model_module": "@jupyter-widgets/controls",
            "_model_module_version": "1.5.0",
            "_model_name": "HTMLModel",
            "_view_count": null,
            "_view_module": "@jupyter-widgets/controls",
            "_view_module_version": "1.5.0",
            "_view_name": "HTMLView",
            "description": "",
            "description_tooltip": null,
            "layout": "IPY_MODEL_323d2f2f0d17477b9173d6cba07eabb3",
            "placeholder": "​",
            "style": "IPY_MODEL_3798d767bf574cf0b56f2297d14b6b28",
            "value": "Downloading (…)okenizer_config.json: 100%"
          }
        },
        "6eacc98bc95248c9a0feca85bbda0288": {
          "model_module": "@jupyter-widgets/controls",
          "model_name": "FloatProgressModel",
          "model_module_version": "1.5.0",
          "state": {
            "_dom_classes": [],
            "_model_module": "@jupyter-widgets/controls",
            "_model_module_version": "1.5.0",
            "_model_name": "FloatProgressModel",
            "_view_count": null,
            "_view_module": "@jupyter-widgets/controls",
            "_view_module_version": "1.5.0",
            "_view_name": "ProgressView",
            "bar_style": "success",
            "description": "",
            "description_tooltip": null,
            "layout": "IPY_MODEL_0ace15fef37344ff8af2ba2160a43030",
            "max": 48,
            "min": 0,
            "orientation": "horizontal",
            "style": "IPY_MODEL_b7db4f7bd3a5415d81edaff902724fbf",
            "value": 48
          }
        },
        "76227bd1d076476a9b6ef22c07d26a5c": {
          "model_module": "@jupyter-widgets/controls",
          "model_name": "HTMLModel",
          "model_module_version": "1.5.0",
          "state": {
            "_dom_classes": [],
            "_model_module": "@jupyter-widgets/controls",
            "_model_module_version": "1.5.0",
            "_model_name": "HTMLModel",
            "_view_count": null,
            "_view_module": "@jupyter-widgets/controls",
            "_view_module_version": "1.5.0",
            "_view_name": "HTMLView",
            "description": "",
            "description_tooltip": null,
            "layout": "IPY_MODEL_23f2de64b8f04acb94259fb9f7295d35",
            "placeholder": "​",
            "style": "IPY_MODEL_b8cc7c9d362744ac9ad6670c251178b0",
            "value": " 48.0/48.0 [00:00&lt;00:00, 2.78kB/s]"
          }
        },
        "cdea01edef0b45199fcf9f83326bbf44": {
          "model_module": "@jupyter-widgets/base",
          "model_name": "LayoutModel",
          "model_module_version": "1.2.0",
          "state": {
            "_model_module": "@jupyter-widgets/base",
            "_model_module_version": "1.2.0",
            "_model_name": "LayoutModel",
            "_view_count": null,
            "_view_module": "@jupyter-widgets/base",
            "_view_module_version": "1.2.0",
            "_view_name": "LayoutView",
            "align_content": null,
            "align_items": null,
            "align_self": null,
            "border": null,
            "bottom": null,
            "display": null,
            "flex": null,
            "flex_flow": null,
            "grid_area": null,
            "grid_auto_columns": null,
            "grid_auto_flow": null,
            "grid_auto_rows": null,
            "grid_column": null,
            "grid_gap": null,
            "grid_row": null,
            "grid_template_areas": null,
            "grid_template_columns": null,
            "grid_template_rows": null,
            "height": null,
            "justify_content": null,
            "justify_items": null,
            "left": null,
            "margin": null,
            "max_height": null,
            "max_width": null,
            "min_height": null,
            "min_width": null,
            "object_fit": null,
            "object_position": null,
            "order": null,
            "overflow": null,
            "overflow_x": null,
            "overflow_y": null,
            "padding": null,
            "right": null,
            "top": null,
            "visibility": null,
            "width": null
          }
        },
        "323d2f2f0d17477b9173d6cba07eabb3": {
          "model_module": "@jupyter-widgets/base",
          "model_name": "LayoutModel",
          "model_module_version": "1.2.0",
          "state": {
            "_model_module": "@jupyter-widgets/base",
            "_model_module_version": "1.2.0",
            "_model_name": "LayoutModel",
            "_view_count": null,
            "_view_module": "@jupyter-widgets/base",
            "_view_module_version": "1.2.0",
            "_view_name": "LayoutView",
            "align_content": null,
            "align_items": null,
            "align_self": null,
            "border": null,
            "bottom": null,
            "display": null,
            "flex": null,
            "flex_flow": null,
            "grid_area": null,
            "grid_auto_columns": null,
            "grid_auto_flow": null,
            "grid_auto_rows": null,
            "grid_column": null,
            "grid_gap": null,
            "grid_row": null,
            "grid_template_areas": null,
            "grid_template_columns": null,
            "grid_template_rows": null,
            "height": null,
            "justify_content": null,
            "justify_items": null,
            "left": null,
            "margin": null,
            "max_height": null,
            "max_width": null,
            "min_height": null,
            "min_width": null,
            "object_fit": null,
            "object_position": null,
            "order": null,
            "overflow": null,
            "overflow_x": null,
            "overflow_y": null,
            "padding": null,
            "right": null,
            "top": null,
            "visibility": null,
            "width": null
          }
        },
        "3798d767bf574cf0b56f2297d14b6b28": {
          "model_module": "@jupyter-widgets/controls",
          "model_name": "DescriptionStyleModel",
          "model_module_version": "1.5.0",
          "state": {
            "_model_module": "@jupyter-widgets/controls",
            "_model_module_version": "1.5.0",
            "_model_name": "DescriptionStyleModel",
            "_view_count": null,
            "_view_module": "@jupyter-widgets/base",
            "_view_module_version": "1.2.0",
            "_view_name": "StyleView",
            "description_width": ""
          }
        },
        "0ace15fef37344ff8af2ba2160a43030": {
          "model_module": "@jupyter-widgets/base",
          "model_name": "LayoutModel",
          "model_module_version": "1.2.0",
          "state": {
            "_model_module": "@jupyter-widgets/base",
            "_model_module_version": "1.2.0",
            "_model_name": "LayoutModel",
            "_view_count": null,
            "_view_module": "@jupyter-widgets/base",
            "_view_module_version": "1.2.0",
            "_view_name": "LayoutView",
            "align_content": null,
            "align_items": null,
            "align_self": null,
            "border": null,
            "bottom": null,
            "display": null,
            "flex": null,
            "flex_flow": null,
            "grid_area": null,
            "grid_auto_columns": null,
            "grid_auto_flow": null,
            "grid_auto_rows": null,
            "grid_column": null,
            "grid_gap": null,
            "grid_row": null,
            "grid_template_areas": null,
            "grid_template_columns": null,
            "grid_template_rows": null,
            "height": null,
            "justify_content": null,
            "justify_items": null,
            "left": null,
            "margin": null,
            "max_height": null,
            "max_width": null,
            "min_height": null,
            "min_width": null,
            "object_fit": null,
            "object_position": null,
            "order": null,
            "overflow": null,
            "overflow_x": null,
            "overflow_y": null,
            "padding": null,
            "right": null,
            "top": null,
            "visibility": null,
            "width": null
          }
        },
        "b7db4f7bd3a5415d81edaff902724fbf": {
          "model_module": "@jupyter-widgets/controls",
          "model_name": "ProgressStyleModel",
          "model_module_version": "1.5.0",
          "state": {
            "_model_module": "@jupyter-widgets/controls",
            "_model_module_version": "1.5.0",
            "_model_name": "ProgressStyleModel",
            "_view_count": null,
            "_view_module": "@jupyter-widgets/base",
            "_view_module_version": "1.2.0",
            "_view_name": "StyleView",
            "bar_color": null,
            "description_width": ""
          }
        },
        "23f2de64b8f04acb94259fb9f7295d35": {
          "model_module": "@jupyter-widgets/base",
          "model_name": "LayoutModel",
          "model_module_version": "1.2.0",
          "state": {
            "_model_module": "@jupyter-widgets/base",
            "_model_module_version": "1.2.0",
            "_model_name": "LayoutModel",
            "_view_count": null,
            "_view_module": "@jupyter-widgets/base",
            "_view_module_version": "1.2.0",
            "_view_name": "LayoutView",
            "align_content": null,
            "align_items": null,
            "align_self": null,
            "border": null,
            "bottom": null,
            "display": null,
            "flex": null,
            "flex_flow": null,
            "grid_area": null,
            "grid_auto_columns": null,
            "grid_auto_flow": null,
            "grid_auto_rows": null,
            "grid_column": null,
            "grid_gap": null,
            "grid_row": null,
            "grid_template_areas": null,
            "grid_template_columns": null,
            "grid_template_rows": null,
            "height": null,
            "justify_content": null,
            "justify_items": null,
            "left": null,
            "margin": null,
            "max_height": null,
            "max_width": null,
            "min_height": null,
            "min_width": null,
            "object_fit": null,
            "object_position": null,
            "order": null,
            "overflow": null,
            "overflow_x": null,
            "overflow_y": null,
            "padding": null,
            "right": null,
            "top": null,
            "visibility": null,
            "width": null
          }
        },
        "b8cc7c9d362744ac9ad6670c251178b0": {
          "model_module": "@jupyter-widgets/controls",
          "model_name": "DescriptionStyleModel",
          "model_module_version": "1.5.0",
          "state": {
            "_model_module": "@jupyter-widgets/controls",
            "_model_module_version": "1.5.0",
            "_model_name": "DescriptionStyleModel",
            "_view_count": null,
            "_view_module": "@jupyter-widgets/base",
            "_view_module_version": "1.2.0",
            "_view_name": "StyleView",
            "description_width": ""
          }
        },
        "6562e703f13a471084b5de1a4ff5ec16": {
          "model_module": "@jupyter-widgets/controls",
          "model_name": "HBoxModel",
          "model_module_version": "1.5.0",
          "state": {
            "_dom_classes": [],
            "_model_module": "@jupyter-widgets/controls",
            "_model_module_version": "1.5.0",
            "_model_name": "HBoxModel",
            "_view_count": null,
            "_view_module": "@jupyter-widgets/controls",
            "_view_module_version": "1.5.0",
            "_view_name": "HBoxView",
            "box_style": "",
            "children": [
              "IPY_MODEL_756a1331de624de1a0dab5cb56925d26",
              "IPY_MODEL_f3b2af1330074f07885cb2461320500e",
              "IPY_MODEL_4df7b3851cb64934ba8f423e88cd69a8"
            ],
            "layout": "IPY_MODEL_e71abe41e5e94f3a996f8ef5d1dc076c"
          }
        },
        "756a1331de624de1a0dab5cb56925d26": {
          "model_module": "@jupyter-widgets/controls",
          "model_name": "HTMLModel",
          "model_module_version": "1.5.0",
          "state": {
            "_dom_classes": [],
            "_model_module": "@jupyter-widgets/controls",
            "_model_module_version": "1.5.0",
            "_model_name": "HTMLModel",
            "_view_count": null,
            "_view_module": "@jupyter-widgets/controls",
            "_view_module_version": "1.5.0",
            "_view_name": "HTMLView",
            "description": "",
            "description_tooltip": null,
            "layout": "IPY_MODEL_e41c9e79cf0a4b29b4cd181a22fc5723",
            "placeholder": "​",
            "style": "IPY_MODEL_505246e47dd44fb49cd7700205ee6f61",
            "value": "Downloading (…)lve/main/config.json: 100%"
          }
        },
        "f3b2af1330074f07885cb2461320500e": {
          "model_module": "@jupyter-widgets/controls",
          "model_name": "FloatProgressModel",
          "model_module_version": "1.5.0",
          "state": {
            "_dom_classes": [],
            "_model_module": "@jupyter-widgets/controls",
            "_model_module_version": "1.5.0",
            "_model_name": "FloatProgressModel",
            "_view_count": null,
            "_view_module": "@jupyter-widgets/controls",
            "_view_module_version": "1.5.0",
            "_view_name": "ProgressView",
            "bar_style": "success",
            "description": "",
            "description_tooltip": null,
            "layout": "IPY_MODEL_e2801c1125f8434499a928bd3e814f2b",
            "max": 629,
            "min": 0,
            "orientation": "horizontal",
            "style": "IPY_MODEL_d5b81957c3f2460da185685f8bc444fc",
            "value": 629
          }
        },
        "4df7b3851cb64934ba8f423e88cd69a8": {
          "model_module": "@jupyter-widgets/controls",
          "model_name": "HTMLModel",
          "model_module_version": "1.5.0",
          "state": {
            "_dom_classes": [],
            "_model_module": "@jupyter-widgets/controls",
            "_model_module_version": "1.5.0",
            "_model_name": "HTMLModel",
            "_view_count": null,
            "_view_module": "@jupyter-widgets/controls",
            "_view_module_version": "1.5.0",
            "_view_name": "HTMLView",
            "description": "",
            "description_tooltip": null,
            "layout": "IPY_MODEL_67e062453300498ea59d23e99e8dd7f2",
            "placeholder": "​",
            "style": "IPY_MODEL_7dc00a0c9bdf4112b21f7f15c32b22d4",
            "value": " 629/629 [00:00&lt;00:00, 44.4kB/s]"
          }
        },
        "e71abe41e5e94f3a996f8ef5d1dc076c": {
          "model_module": "@jupyter-widgets/base",
          "model_name": "LayoutModel",
          "model_module_version": "1.2.0",
          "state": {
            "_model_module": "@jupyter-widgets/base",
            "_model_module_version": "1.2.0",
            "_model_name": "LayoutModel",
            "_view_count": null,
            "_view_module": "@jupyter-widgets/base",
            "_view_module_version": "1.2.0",
            "_view_name": "LayoutView",
            "align_content": null,
            "align_items": null,
            "align_self": null,
            "border": null,
            "bottom": null,
            "display": null,
            "flex": null,
            "flex_flow": null,
            "grid_area": null,
            "grid_auto_columns": null,
            "grid_auto_flow": null,
            "grid_auto_rows": null,
            "grid_column": null,
            "grid_gap": null,
            "grid_row": null,
            "grid_template_areas": null,
            "grid_template_columns": null,
            "grid_template_rows": null,
            "height": null,
            "justify_content": null,
            "justify_items": null,
            "left": null,
            "margin": null,
            "max_height": null,
            "max_width": null,
            "min_height": null,
            "min_width": null,
            "object_fit": null,
            "object_position": null,
            "order": null,
            "overflow": null,
            "overflow_x": null,
            "overflow_y": null,
            "padding": null,
            "right": null,
            "top": null,
            "visibility": null,
            "width": null
          }
        },
        "e41c9e79cf0a4b29b4cd181a22fc5723": {
          "model_module": "@jupyter-widgets/base",
          "model_name": "LayoutModel",
          "model_module_version": "1.2.0",
          "state": {
            "_model_module": "@jupyter-widgets/base",
            "_model_module_version": "1.2.0",
            "_model_name": "LayoutModel",
            "_view_count": null,
            "_view_module": "@jupyter-widgets/base",
            "_view_module_version": "1.2.0",
            "_view_name": "LayoutView",
            "align_content": null,
            "align_items": null,
            "align_self": null,
            "border": null,
            "bottom": null,
            "display": null,
            "flex": null,
            "flex_flow": null,
            "grid_area": null,
            "grid_auto_columns": null,
            "grid_auto_flow": null,
            "grid_auto_rows": null,
            "grid_column": null,
            "grid_gap": null,
            "grid_row": null,
            "grid_template_areas": null,
            "grid_template_columns": null,
            "grid_template_rows": null,
            "height": null,
            "justify_content": null,
            "justify_items": null,
            "left": null,
            "margin": null,
            "max_height": null,
            "max_width": null,
            "min_height": null,
            "min_width": null,
            "object_fit": null,
            "object_position": null,
            "order": null,
            "overflow": null,
            "overflow_x": null,
            "overflow_y": null,
            "padding": null,
            "right": null,
            "top": null,
            "visibility": null,
            "width": null
          }
        },
        "505246e47dd44fb49cd7700205ee6f61": {
          "model_module": "@jupyter-widgets/controls",
          "model_name": "DescriptionStyleModel",
          "model_module_version": "1.5.0",
          "state": {
            "_model_module": "@jupyter-widgets/controls",
            "_model_module_version": "1.5.0",
            "_model_name": "DescriptionStyleModel",
            "_view_count": null,
            "_view_module": "@jupyter-widgets/base",
            "_view_module_version": "1.2.0",
            "_view_name": "StyleView",
            "description_width": ""
          }
        },
        "e2801c1125f8434499a928bd3e814f2b": {
          "model_module": "@jupyter-widgets/base",
          "model_name": "LayoutModel",
          "model_module_version": "1.2.0",
          "state": {
            "_model_module": "@jupyter-widgets/base",
            "_model_module_version": "1.2.0",
            "_model_name": "LayoutModel",
            "_view_count": null,
            "_view_module": "@jupyter-widgets/base",
            "_view_module_version": "1.2.0",
            "_view_name": "LayoutView",
            "align_content": null,
            "align_items": null,
            "align_self": null,
            "border": null,
            "bottom": null,
            "display": null,
            "flex": null,
            "flex_flow": null,
            "grid_area": null,
            "grid_auto_columns": null,
            "grid_auto_flow": null,
            "grid_auto_rows": null,
            "grid_column": null,
            "grid_gap": null,
            "grid_row": null,
            "grid_template_areas": null,
            "grid_template_columns": null,
            "grid_template_rows": null,
            "height": null,
            "justify_content": null,
            "justify_items": null,
            "left": null,
            "margin": null,
            "max_height": null,
            "max_width": null,
            "min_height": null,
            "min_width": null,
            "object_fit": null,
            "object_position": null,
            "order": null,
            "overflow": null,
            "overflow_x": null,
            "overflow_y": null,
            "padding": null,
            "right": null,
            "top": null,
            "visibility": null,
            "width": null
          }
        },
        "d5b81957c3f2460da185685f8bc444fc": {
          "model_module": "@jupyter-widgets/controls",
          "model_name": "ProgressStyleModel",
          "model_module_version": "1.5.0",
          "state": {
            "_model_module": "@jupyter-widgets/controls",
            "_model_module_version": "1.5.0",
            "_model_name": "ProgressStyleModel",
            "_view_count": null,
            "_view_module": "@jupyter-widgets/base",
            "_view_module_version": "1.2.0",
            "_view_name": "StyleView",
            "bar_color": null,
            "description_width": ""
          }
        },
        "67e062453300498ea59d23e99e8dd7f2": {
          "model_module": "@jupyter-widgets/base",
          "model_name": "LayoutModel",
          "model_module_version": "1.2.0",
          "state": {
            "_model_module": "@jupyter-widgets/base",
            "_model_module_version": "1.2.0",
            "_model_name": "LayoutModel",
            "_view_count": null,
            "_view_module": "@jupyter-widgets/base",
            "_view_module_version": "1.2.0",
            "_view_name": "LayoutView",
            "align_content": null,
            "align_items": null,
            "align_self": null,
            "border": null,
            "bottom": null,
            "display": null,
            "flex": null,
            "flex_flow": null,
            "grid_area": null,
            "grid_auto_columns": null,
            "grid_auto_flow": null,
            "grid_auto_rows": null,
            "grid_column": null,
            "grid_gap": null,
            "grid_row": null,
            "grid_template_areas": null,
            "grid_template_columns": null,
            "grid_template_rows": null,
            "height": null,
            "justify_content": null,
            "justify_items": null,
            "left": null,
            "margin": null,
            "max_height": null,
            "max_width": null,
            "min_height": null,
            "min_width": null,
            "object_fit": null,
            "object_position": null,
            "order": null,
            "overflow": null,
            "overflow_x": null,
            "overflow_y": null,
            "padding": null,
            "right": null,
            "top": null,
            "visibility": null,
            "width": null
          }
        },
        "7dc00a0c9bdf4112b21f7f15c32b22d4": {
          "model_module": "@jupyter-widgets/controls",
          "model_name": "DescriptionStyleModel",
          "model_module_version": "1.5.0",
          "state": {
            "_model_module": "@jupyter-widgets/controls",
            "_model_module_version": "1.5.0",
            "_model_name": "DescriptionStyleModel",
            "_view_count": null,
            "_view_module": "@jupyter-widgets/base",
            "_view_module_version": "1.2.0",
            "_view_name": "StyleView",
            "description_width": ""
          }
        },
        "b7501a45643446b18f1c8726192d7ecc": {
          "model_module": "@jupyter-widgets/controls",
          "model_name": "HBoxModel",
          "model_module_version": "1.5.0",
          "state": {
            "_dom_classes": [],
            "_model_module": "@jupyter-widgets/controls",
            "_model_module_version": "1.5.0",
            "_model_name": "HBoxModel",
            "_view_count": null,
            "_view_module": "@jupyter-widgets/controls",
            "_view_module_version": "1.5.0",
            "_view_name": "HBoxView",
            "box_style": "",
            "children": [
              "IPY_MODEL_700fdbfbef184c7da9276c5eed474845",
              "IPY_MODEL_1abacc6d740d4eaeb63a0fabd74038da",
              "IPY_MODEL_34caa399759346fa969701eaba5e3004"
            ],
            "layout": "IPY_MODEL_3bfd5950d2b54565959920e2f3b7e5d8"
          }
        },
        "700fdbfbef184c7da9276c5eed474845": {
          "model_module": "@jupyter-widgets/controls",
          "model_name": "HTMLModel",
          "model_module_version": "1.5.0",
          "state": {
            "_dom_classes": [],
            "_model_module": "@jupyter-widgets/controls",
            "_model_module_version": "1.5.0",
            "_model_name": "HTMLModel",
            "_view_count": null,
            "_view_module": "@jupyter-widgets/controls",
            "_view_module_version": "1.5.0",
            "_view_name": "HTMLView",
            "description": "",
            "description_tooltip": null,
            "layout": "IPY_MODEL_bf9aa244242040c1946d5369a02803c4",
            "placeholder": "​",
            "style": "IPY_MODEL_19acba9c8e994e008278289d3d5124df",
            "value": "Downloading (…)solve/main/vocab.txt: 100%"
          }
        },
        "1abacc6d740d4eaeb63a0fabd74038da": {
          "model_module": "@jupyter-widgets/controls",
          "model_name": "FloatProgressModel",
          "model_module_version": "1.5.0",
          "state": {
            "_dom_classes": [],
            "_model_module": "@jupyter-widgets/controls",
            "_model_module_version": "1.5.0",
            "_model_name": "FloatProgressModel",
            "_view_count": null,
            "_view_module": "@jupyter-widgets/controls",
            "_view_module_version": "1.5.0",
            "_view_name": "ProgressView",
            "bar_style": "success",
            "description": "",
            "description_tooltip": null,
            "layout": "IPY_MODEL_f8830369c5204474a91d6ee6f675d11e",
            "max": 231508,
            "min": 0,
            "orientation": "horizontal",
            "style": "IPY_MODEL_a631d5086db5423ba23bb21d29323edf",
            "value": 231508
          }
        },
        "34caa399759346fa969701eaba5e3004": {
          "model_module": "@jupyter-widgets/controls",
          "model_name": "HTMLModel",
          "model_module_version": "1.5.0",
          "state": {
            "_dom_classes": [],
            "_model_module": "@jupyter-widgets/controls",
            "_model_module_version": "1.5.0",
            "_model_name": "HTMLModel",
            "_view_count": null,
            "_view_module": "@jupyter-widgets/controls",
            "_view_module_version": "1.5.0",
            "_view_name": "HTMLView",
            "description": "",
            "description_tooltip": null,
            "layout": "IPY_MODEL_8c6718b96e3e425c9ab98820dfd4dcfe",
            "placeholder": "​",
            "style": "IPY_MODEL_10c0f36bd4b8435da5dd695ba218e296",
            "value": " 232k/232k [00:00&lt;00:00, 3.59MB/s]"
          }
        },
        "3bfd5950d2b54565959920e2f3b7e5d8": {
          "model_module": "@jupyter-widgets/base",
          "model_name": "LayoutModel",
          "model_module_version": "1.2.0",
          "state": {
            "_model_module": "@jupyter-widgets/base",
            "_model_module_version": "1.2.0",
            "_model_name": "LayoutModel",
            "_view_count": null,
            "_view_module": "@jupyter-widgets/base",
            "_view_module_version": "1.2.0",
            "_view_name": "LayoutView",
            "align_content": null,
            "align_items": null,
            "align_self": null,
            "border": null,
            "bottom": null,
            "display": null,
            "flex": null,
            "flex_flow": null,
            "grid_area": null,
            "grid_auto_columns": null,
            "grid_auto_flow": null,
            "grid_auto_rows": null,
            "grid_column": null,
            "grid_gap": null,
            "grid_row": null,
            "grid_template_areas": null,
            "grid_template_columns": null,
            "grid_template_rows": null,
            "height": null,
            "justify_content": null,
            "justify_items": null,
            "left": null,
            "margin": null,
            "max_height": null,
            "max_width": null,
            "min_height": null,
            "min_width": null,
            "object_fit": null,
            "object_position": null,
            "order": null,
            "overflow": null,
            "overflow_x": null,
            "overflow_y": null,
            "padding": null,
            "right": null,
            "top": null,
            "visibility": null,
            "width": null
          }
        },
        "bf9aa244242040c1946d5369a02803c4": {
          "model_module": "@jupyter-widgets/base",
          "model_name": "LayoutModel",
          "model_module_version": "1.2.0",
          "state": {
            "_model_module": "@jupyter-widgets/base",
            "_model_module_version": "1.2.0",
            "_model_name": "LayoutModel",
            "_view_count": null,
            "_view_module": "@jupyter-widgets/base",
            "_view_module_version": "1.2.0",
            "_view_name": "LayoutView",
            "align_content": null,
            "align_items": null,
            "align_self": null,
            "border": null,
            "bottom": null,
            "display": null,
            "flex": null,
            "flex_flow": null,
            "grid_area": null,
            "grid_auto_columns": null,
            "grid_auto_flow": null,
            "grid_auto_rows": null,
            "grid_column": null,
            "grid_gap": null,
            "grid_row": null,
            "grid_template_areas": null,
            "grid_template_columns": null,
            "grid_template_rows": null,
            "height": null,
            "justify_content": null,
            "justify_items": null,
            "left": null,
            "margin": null,
            "max_height": null,
            "max_width": null,
            "min_height": null,
            "min_width": null,
            "object_fit": null,
            "object_position": null,
            "order": null,
            "overflow": null,
            "overflow_x": null,
            "overflow_y": null,
            "padding": null,
            "right": null,
            "top": null,
            "visibility": null,
            "width": null
          }
        },
        "19acba9c8e994e008278289d3d5124df": {
          "model_module": "@jupyter-widgets/controls",
          "model_name": "DescriptionStyleModel",
          "model_module_version": "1.5.0",
          "state": {
            "_model_module": "@jupyter-widgets/controls",
            "_model_module_version": "1.5.0",
            "_model_name": "DescriptionStyleModel",
            "_view_count": null,
            "_view_module": "@jupyter-widgets/base",
            "_view_module_version": "1.2.0",
            "_view_name": "StyleView",
            "description_width": ""
          }
        },
        "f8830369c5204474a91d6ee6f675d11e": {
          "model_module": "@jupyter-widgets/base",
          "model_name": "LayoutModel",
          "model_module_version": "1.2.0",
          "state": {
            "_model_module": "@jupyter-widgets/base",
            "_model_module_version": "1.2.0",
            "_model_name": "LayoutModel",
            "_view_count": null,
            "_view_module": "@jupyter-widgets/base",
            "_view_module_version": "1.2.0",
            "_view_name": "LayoutView",
            "align_content": null,
            "align_items": null,
            "align_self": null,
            "border": null,
            "bottom": null,
            "display": null,
            "flex": null,
            "flex_flow": null,
            "grid_area": null,
            "grid_auto_columns": null,
            "grid_auto_flow": null,
            "grid_auto_rows": null,
            "grid_column": null,
            "grid_gap": null,
            "grid_row": null,
            "grid_template_areas": null,
            "grid_template_columns": null,
            "grid_template_rows": null,
            "height": null,
            "justify_content": null,
            "justify_items": null,
            "left": null,
            "margin": null,
            "max_height": null,
            "max_width": null,
            "min_height": null,
            "min_width": null,
            "object_fit": null,
            "object_position": null,
            "order": null,
            "overflow": null,
            "overflow_x": null,
            "overflow_y": null,
            "padding": null,
            "right": null,
            "top": null,
            "visibility": null,
            "width": null
          }
        },
        "a631d5086db5423ba23bb21d29323edf": {
          "model_module": "@jupyter-widgets/controls",
          "model_name": "ProgressStyleModel",
          "model_module_version": "1.5.0",
          "state": {
            "_model_module": "@jupyter-widgets/controls",
            "_model_module_version": "1.5.0",
            "_model_name": "ProgressStyleModel",
            "_view_count": null,
            "_view_module": "@jupyter-widgets/base",
            "_view_module_version": "1.2.0",
            "_view_name": "StyleView",
            "bar_color": null,
            "description_width": ""
          }
        },
        "8c6718b96e3e425c9ab98820dfd4dcfe": {
          "model_module": "@jupyter-widgets/base",
          "model_name": "LayoutModel",
          "model_module_version": "1.2.0",
          "state": {
            "_model_module": "@jupyter-widgets/base",
            "_model_module_version": "1.2.0",
            "_model_name": "LayoutModel",
            "_view_count": null,
            "_view_module": "@jupyter-widgets/base",
            "_view_module_version": "1.2.0",
            "_view_name": "LayoutView",
            "align_content": null,
            "align_items": null,
            "align_self": null,
            "border": null,
            "bottom": null,
            "display": null,
            "flex": null,
            "flex_flow": null,
            "grid_area": null,
            "grid_auto_columns": null,
            "grid_auto_flow": null,
            "grid_auto_rows": null,
            "grid_column": null,
            "grid_gap": null,
            "grid_row": null,
            "grid_template_areas": null,
            "grid_template_columns": null,
            "grid_template_rows": null,
            "height": null,
            "justify_content": null,
            "justify_items": null,
            "left": null,
            "margin": null,
            "max_height": null,
            "max_width": null,
            "min_height": null,
            "min_width": null,
            "object_fit": null,
            "object_position": null,
            "order": null,
            "overflow": null,
            "overflow_x": null,
            "overflow_y": null,
            "padding": null,
            "right": null,
            "top": null,
            "visibility": null,
            "width": null
          }
        },
        "10c0f36bd4b8435da5dd695ba218e296": {
          "model_module": "@jupyter-widgets/controls",
          "model_name": "DescriptionStyleModel",
          "model_module_version": "1.5.0",
          "state": {
            "_model_module": "@jupyter-widgets/controls",
            "_model_module_version": "1.5.0",
            "_model_name": "DescriptionStyleModel",
            "_view_count": null,
            "_view_module": "@jupyter-widgets/base",
            "_view_module_version": "1.2.0",
            "_view_name": "StyleView",
            "description_width": ""
          }
        },
        "059e367af3b840e8a528bded9fef800d": {
          "model_module": "@jupyter-widgets/controls",
          "model_name": "HBoxModel",
          "model_module_version": "1.5.0",
          "state": {
            "_dom_classes": [],
            "_model_module": "@jupyter-widgets/controls",
            "_model_module_version": "1.5.0",
            "_model_name": "HBoxModel",
            "_view_count": null,
            "_view_module": "@jupyter-widgets/controls",
            "_view_module_version": "1.5.0",
            "_view_name": "HBoxView",
            "box_style": "",
            "children": [
              "IPY_MODEL_c91fac69879a4efda7b9730d09dc649b",
              "IPY_MODEL_841e55cb65194daab5dd4f2c1acaf011",
              "IPY_MODEL_c78567e9d8024434bddd28c6dc379cb5"
            ],
            "layout": "IPY_MODEL_ef4a9a2e451b4bb49120e406e1ee3ba9"
          }
        },
        "c91fac69879a4efda7b9730d09dc649b": {
          "model_module": "@jupyter-widgets/controls",
          "model_name": "HTMLModel",
          "model_module_version": "1.5.0",
          "state": {
            "_dom_classes": [],
            "_model_module": "@jupyter-widgets/controls",
            "_model_module_version": "1.5.0",
            "_model_name": "HTMLModel",
            "_view_count": null,
            "_view_module": "@jupyter-widgets/controls",
            "_view_module_version": "1.5.0",
            "_view_name": "HTMLView",
            "description": "",
            "description_tooltip": null,
            "layout": "IPY_MODEL_c7fac57806ca4f2ea13c2ed54ddb1271",
            "placeholder": "​",
            "style": "IPY_MODEL_0227b294d5124eadaf9d075fc2ec56e3",
            "value": "Downloading model.safetensors: 100%"
          }
        },
        "841e55cb65194daab5dd4f2c1acaf011": {
          "model_module": "@jupyter-widgets/controls",
          "model_name": "FloatProgressModel",
          "model_module_version": "1.5.0",
          "state": {
            "_dom_classes": [],
            "_model_module": "@jupyter-widgets/controls",
            "_model_module_version": "1.5.0",
            "_model_name": "FloatProgressModel",
            "_view_count": null,
            "_view_module": "@jupyter-widgets/controls",
            "_view_module_version": "1.5.0",
            "_view_name": "ProgressView",
            "bar_style": "success",
            "description": "",
            "description_tooltip": null,
            "layout": "IPY_MODEL_00a615eaebe548f19b8e29e97d56d4f5",
            "max": 267832558,
            "min": 0,
            "orientation": "horizontal",
            "style": "IPY_MODEL_f7aa69d89bec4b32accb58d8e32b9f85",
            "value": 267832558
          }
        },
        "c78567e9d8024434bddd28c6dc379cb5": {
          "model_module": "@jupyter-widgets/controls",
          "model_name": "HTMLModel",
          "model_module_version": "1.5.0",
          "state": {
            "_dom_classes": [],
            "_model_module": "@jupyter-widgets/controls",
            "_model_module_version": "1.5.0",
            "_model_name": "HTMLModel",
            "_view_count": null,
            "_view_module": "@jupyter-widgets/controls",
            "_view_module_version": "1.5.0",
            "_view_name": "HTMLView",
            "description": "",
            "description_tooltip": null,
            "layout": "IPY_MODEL_b39362a156834b70841e25bb188da22e",
            "placeholder": "​",
            "style": "IPY_MODEL_be1ecfdd18384a558015312362a0b941",
            "value": " 268M/268M [00:02&lt;00:00, 130MB/s]"
          }
        },
        "ef4a9a2e451b4bb49120e406e1ee3ba9": {
          "model_module": "@jupyter-widgets/base",
          "model_name": "LayoutModel",
          "model_module_version": "1.2.0",
          "state": {
            "_model_module": "@jupyter-widgets/base",
            "_model_module_version": "1.2.0",
            "_model_name": "LayoutModel",
            "_view_count": null,
            "_view_module": "@jupyter-widgets/base",
            "_view_module_version": "1.2.0",
            "_view_name": "LayoutView",
            "align_content": null,
            "align_items": null,
            "align_self": null,
            "border": null,
            "bottom": null,
            "display": null,
            "flex": null,
            "flex_flow": null,
            "grid_area": null,
            "grid_auto_columns": null,
            "grid_auto_flow": null,
            "grid_auto_rows": null,
            "grid_column": null,
            "grid_gap": null,
            "grid_row": null,
            "grid_template_areas": null,
            "grid_template_columns": null,
            "grid_template_rows": null,
            "height": null,
            "justify_content": null,
            "justify_items": null,
            "left": null,
            "margin": null,
            "max_height": null,
            "max_width": null,
            "min_height": null,
            "min_width": null,
            "object_fit": null,
            "object_position": null,
            "order": null,
            "overflow": null,
            "overflow_x": null,
            "overflow_y": null,
            "padding": null,
            "right": null,
            "top": null,
            "visibility": null,
            "width": null
          }
        },
        "c7fac57806ca4f2ea13c2ed54ddb1271": {
          "model_module": "@jupyter-widgets/base",
          "model_name": "LayoutModel",
          "model_module_version": "1.2.0",
          "state": {
            "_model_module": "@jupyter-widgets/base",
            "_model_module_version": "1.2.0",
            "_model_name": "LayoutModel",
            "_view_count": null,
            "_view_module": "@jupyter-widgets/base",
            "_view_module_version": "1.2.0",
            "_view_name": "LayoutView",
            "align_content": null,
            "align_items": null,
            "align_self": null,
            "border": null,
            "bottom": null,
            "display": null,
            "flex": null,
            "flex_flow": null,
            "grid_area": null,
            "grid_auto_columns": null,
            "grid_auto_flow": null,
            "grid_auto_rows": null,
            "grid_column": null,
            "grid_gap": null,
            "grid_row": null,
            "grid_template_areas": null,
            "grid_template_columns": null,
            "grid_template_rows": null,
            "height": null,
            "justify_content": null,
            "justify_items": null,
            "left": null,
            "margin": null,
            "max_height": null,
            "max_width": null,
            "min_height": null,
            "min_width": null,
            "object_fit": null,
            "object_position": null,
            "order": null,
            "overflow": null,
            "overflow_x": null,
            "overflow_y": null,
            "padding": null,
            "right": null,
            "top": null,
            "visibility": null,
            "width": null
          }
        },
        "0227b294d5124eadaf9d075fc2ec56e3": {
          "model_module": "@jupyter-widgets/controls",
          "model_name": "DescriptionStyleModel",
          "model_module_version": "1.5.0",
          "state": {
            "_model_module": "@jupyter-widgets/controls",
            "_model_module_version": "1.5.0",
            "_model_name": "DescriptionStyleModel",
            "_view_count": null,
            "_view_module": "@jupyter-widgets/base",
            "_view_module_version": "1.2.0",
            "_view_name": "StyleView",
            "description_width": ""
          }
        },
        "00a615eaebe548f19b8e29e97d56d4f5": {
          "model_module": "@jupyter-widgets/base",
          "model_name": "LayoutModel",
          "model_module_version": "1.2.0",
          "state": {
            "_model_module": "@jupyter-widgets/base",
            "_model_module_version": "1.2.0",
            "_model_name": "LayoutModel",
            "_view_count": null,
            "_view_module": "@jupyter-widgets/base",
            "_view_module_version": "1.2.0",
            "_view_name": "LayoutView",
            "align_content": null,
            "align_items": null,
            "align_self": null,
            "border": null,
            "bottom": null,
            "display": null,
            "flex": null,
            "flex_flow": null,
            "grid_area": null,
            "grid_auto_columns": null,
            "grid_auto_flow": null,
            "grid_auto_rows": null,
            "grid_column": null,
            "grid_gap": null,
            "grid_row": null,
            "grid_template_areas": null,
            "grid_template_columns": null,
            "grid_template_rows": null,
            "height": null,
            "justify_content": null,
            "justify_items": null,
            "left": null,
            "margin": null,
            "max_height": null,
            "max_width": null,
            "min_height": null,
            "min_width": null,
            "object_fit": null,
            "object_position": null,
            "order": null,
            "overflow": null,
            "overflow_x": null,
            "overflow_y": null,
            "padding": null,
            "right": null,
            "top": null,
            "visibility": null,
            "width": null
          }
        },
        "f7aa69d89bec4b32accb58d8e32b9f85": {
          "model_module": "@jupyter-widgets/controls",
          "model_name": "ProgressStyleModel",
          "model_module_version": "1.5.0",
          "state": {
            "_model_module": "@jupyter-widgets/controls",
            "_model_module_version": "1.5.0",
            "_model_name": "ProgressStyleModel",
            "_view_count": null,
            "_view_module": "@jupyter-widgets/base",
            "_view_module_version": "1.2.0",
            "_view_name": "StyleView",
            "bar_color": null,
            "description_width": ""
          }
        },
        "b39362a156834b70841e25bb188da22e": {
          "model_module": "@jupyter-widgets/base",
          "model_name": "LayoutModel",
          "model_module_version": "1.2.0",
          "state": {
            "_model_module": "@jupyter-widgets/base",
            "_model_module_version": "1.2.0",
            "_model_name": "LayoutModel",
            "_view_count": null,
            "_view_module": "@jupyter-widgets/base",
            "_view_module_version": "1.2.0",
            "_view_name": "LayoutView",
            "align_content": null,
            "align_items": null,
            "align_self": null,
            "border": null,
            "bottom": null,
            "display": null,
            "flex": null,
            "flex_flow": null,
            "grid_area": null,
            "grid_auto_columns": null,
            "grid_auto_flow": null,
            "grid_auto_rows": null,
            "grid_column": null,
            "grid_gap": null,
            "grid_row": null,
            "grid_template_areas": null,
            "grid_template_columns": null,
            "grid_template_rows": null,
            "height": null,
            "justify_content": null,
            "justify_items": null,
            "left": null,
            "margin": null,
            "max_height": null,
            "max_width": null,
            "min_height": null,
            "min_width": null,
            "object_fit": null,
            "object_position": null,
            "order": null,
            "overflow": null,
            "overflow_x": null,
            "overflow_y": null,
            "padding": null,
            "right": null,
            "top": null,
            "visibility": null,
            "width": null
          }
        },
        "be1ecfdd18384a558015312362a0b941": {
          "model_module": "@jupyter-widgets/controls",
          "model_name": "DescriptionStyleModel",
          "model_module_version": "1.5.0",
          "state": {
            "_model_module": "@jupyter-widgets/controls",
            "_model_module_version": "1.5.0",
            "_model_name": "DescriptionStyleModel",
            "_view_count": null,
            "_view_module": "@jupyter-widgets/base",
            "_view_module_version": "1.2.0",
            "_view_name": "StyleView",
            "description_width": ""
          }
        }
      }
    }
  },
  "nbformat": 4,
  "nbformat_minor": 5
}